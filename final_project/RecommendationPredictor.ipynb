{
 "cells": [
  {
   "cell_type": "markdown",
   "metadata": {},
   "source": [
    "# Can We Predict Whether or Not a Person Will Recommend a Product?"
   ]
  },
  {
   "cell_type": "markdown",
   "metadata": {},
   "source": [
    "For Sephora, it is natural for them to want to promote products that are recommended a lot and not promote products that are not. One of the great things about Sephora's UI is that when you have an account, they will recommend products to you. For example, my current recommendations include MAKE UP FOR EVER's Ultra HD Invisible Cover Foundation, Anastasia Beverly Hills' Brow Wiz, Givenchy's Teint Couture Blurring Foundation Balm Broad Spectrum 15, and more. I don't know how Sephora picks these recommendations for me, but I do know that I have provided Sephora with my personal information including skin tone, skin type, skin concerns, age, and other features. What we are going to attempt to do in this notebook is to see if we can use machine learning to predict whether or not any given person will recommend a product based on the product and the person's characteristics. If a person is more likely to recommend a product based on their characteristics, then it makes sense to recommend that product to them. \n",
    "\n",
    "We will attempt to this using three different machine learning algorithms, which we will go into more detail about later. These algorithms are: \n",
    " - Logistic Regression\n",
    " - k Nearest Neighbors (kNN)\n",
    " - Support Vector Machine (SVM)\n",
    " \n",
    " We will compare the results of these algorithms to see which one provides the highest success rate."
   ]
  },
  {
   "cell_type": "markdown",
   "metadata": {},
   "source": [
    "## Table of Contents\n",
    "\n",
    "1. [Imported Packages](#imported)\n",
    "2. [Data](#data)\n",
    "3. [Data Exploration](#dataexploration)\n",
    "    <br>3.1 [Categorical Data](#categoricaldata)<br>\n",
    "4. [Prepare Data](#preparedata)\n",
    "    <br>4.1 [Converting Categorical Data into Dummy Variables](#convert)\n",
    "    <br>4.2 [Over-Sampling Our Data Using SMOTE](#smote)<br>\n",
    "5. [Machine Learning Algorithms](#machinelearning)\n",
    "    <br>5.1 [Logistic Regression](#logreg)\n",
    "    <br>5.2 [k-Nearest Neighbors](#knn)\n",
    "    <br>5.3 [Support Vector Machine](#svm)\n",
    "6. [Conclusion](#conclusion)"
   ]
  },
  {
   "cell_type": "markdown",
   "metadata": {},
   "source": [
    "## Imported Packages\n",
    "<a id = 'imported'></a>"
   ]
  },
  {
   "cell_type": "code",
   "execution_count": 131,
   "metadata": {},
   "outputs": [],
   "source": [
    "import pandas as pd\n",
    "import numpy as np\n",
    "from sklearn import preprocessing\n",
    "import matplotlib.pyplot as plt \n",
    "plt.rc(\"font\", size=14)\n",
    "from sklearn.neighbors import KNeighborsClassifier\n",
    "from sklearn.metrics import confusion_matrix\n",
    "from sklearn.metrics import classification_report\n",
    "from sklearn.linear_model import LogisticRegression\n",
    "from sklearn.model_selection import train_test_split\n",
    "from sklearn.feature_selection import RFE\n",
    "from sklearn.linear_model import LogisticRegression\n",
    "from sklearn import metrics\n",
    "from sklearn import preprocessing\n",
    "from sklearn.metrics import roc_auc_score\n",
    "from sklearn import svm\n",
    "from sklearn.svm import SVC\n",
    "from sklearn.model_selection import cross_val_score\n",
    "import statsmodels.api as sm\n",
    "from sklearn.metrics import roc_auc_score\n",
    "from sklearn.metrics import roc_curve\n",
    "from sklearn.metrics import accuracy_score\n",
    "import seaborn as sns\n",
    "sns.set(style=\"white\")\n",
    "sns.set(style=\"whitegrid\", color_codes=True)\n",
    "import warnings\n",
    "import plotnine as p9\n",
    "from plotnine import *\n",
    "from imblearn.over_sampling import SMOTE"
   ]
  },
  {
   "cell_type": "markdown",
   "metadata": {},
   "source": [
    "## Data\n",
    "<a id = 'data'></a>\n",
    "\n",
    "The data we are working with is the same data as we were using in the last notebook except we are not going to be working with all of the features. We obviously will not be needing the image urls that were used for plotting in the last notebook. In this section, I will clean the data up a bit and then display some visualizations that show how different features interact with the recommendation column. "
   ]
  },
  {
   "cell_type": "code",
   "execution_count": 2,
   "metadata": {},
   "outputs": [],
   "source": [
    "warnings.filterwarnings(\"ignore\")\n",
    "\n",
    "#read in data frame\n",
    "df = pd.read_csv('/Users/sangeetharamamurthy/Desktop/SephoraFoundationAnalysis/Datasets/sephora_reviews_final.csv')\n",
    "\n",
    "df = df[['brand','name','skin_type', 'skin_concerns',\n",
    "        'skin_tone', 'age', 'price', 'recommended']]\n",
    "\n",
    "\n",
    "df = df[~df['recommended'].isna()]\n",
    "\n",
    "#0: Not recommended\n",
    "#1: Recommended\n",
    "df['recommended'] = [1 if i  == True else 0 for i in df['recommended']]"
   ]
  },
  {
   "cell_type": "markdown",
   "metadata": {},
   "source": [
    "**Input Variables**\n",
    " - **name**: name of foundation (categorical)\n",
    " - **skin_type**: the type of skin a person has (categorical; e.g. oily, combination, etc.)\n",
    " - **skin_concerns**: what the person is most concerned about with their skin (categorical; e.g. acne, aging, etc.)\n",
    " - **skin_tone**: what color complexion a person has (categorical; e.g. dark, light, ebony, etc.)\n",
    " - **age**: a person's age (categorical; e.g. 13to17, 18to24, etc.)\n",
    " - **price**: price of the foundation (numeric)\n",
    " \n",
    "**Predict Variable**\n",
    " - **recommended**: has the reviewer recommended the product? (binary; 0: no, 1: yes)\n",
    " \n",
    " **Note**: We do not have recommended values for all of the data because many people do not provide their recommendation on the product when they review it. Thus, we will be dropping all the data that does not have recommended information, and we are assuming that recommendation data is missing completely at random. In addition, because we turned age into a numeric fetaure by using one hot encoding, we had to drop all rows without age information."
   ]
  },
  {
   "cell_type": "markdown",
   "metadata": {},
   "source": [
    "## Data Exploration\n",
    "<a id = 'dataexploration'></a>"
   ]
  },
  {
   "cell_type": "code",
   "execution_count": 50,
   "metadata": {},
   "outputs": [
    {
     "data": {
      "text/plain": [
       "(0.2089784229013426, 0.7910215770986574)"
      ]
     },
     "execution_count": 50,
     "metadata": {},
     "output_type": "execute_result"
    }
   ],
   "source": [
    "df['recommended'].value_counts()[0]/len(df), df['recommended'].value_counts()[1]/len(df)"
   ]
  },
  {
   "cell_type": "markdown",
   "metadata": {},
   "source": [
    "Percentage of not recommending a product: 20.89784229013426%\n",
    "\n",
    "Percentage of recommending a product: 79.10215770986574%"
   ]
  },
  {
   "cell_type": "code",
   "execution_count": 51,
   "metadata": {},
   "outputs": [
    {
     "data": {
      "image/png": "[encoded data removed]",
      "text/plain": [
       "<Figure size 500x300 with 1 Axes>"
      ]
     },
     "metadata": {},
     "output_type": "display_data"
    },
    {
     "data": {
      "text/plain": [
       "<ggplot: (-9223372036582811304)>"
      ]
     },
     "execution_count": 51,
     "metadata": {},
     "output_type": "execute_result"
    }
   ],
   "source": [
    "df_price = df.groupby('recommended').mean()\n",
    "df_price['recommended'] = df_price.index.astype(str)\n",
    "\n",
    "(p9.ggplot(df_price, aes(x = 'recommended', y = 'price', fill = 'recommended')) + \n",
    " geom_bar(stat = 'identity') + \n",
    " theme(figure_size = (5,3)) + \n",
    " ggtitle('Average Price from Recommended vs Not Recommended Groups') + \n",
    " labs(fill = 'Recommended') + \n",
    " xlab('Recommended') + \n",
    " ylab('Price in USD'))"
   ]
  },
  {
   "cell_type": "markdown",
   "metadata": {},
   "source": [
    "There does not seem to be a major difference between the average price of foundations that were recommended compared to foundations that were not recommended. However, their is a huge divergence in rating between recommended and not recommended products. The average rating of a product that was not recommended is almost 3 points lower than the average rating of a recommended product.\n",
    "\n",
    "Now, I am going to calculate categorical means for my categorical variables like skin tone, skin type, age, and more."
   ]
  },
  {
   "cell_type": "markdown",
   "metadata": {},
   "source": [
    "Clearly, age does not seem to have much of an impact on recommendation either because there is no difference between the two. However, we will see what happens as we move forward."
   ]
  },
  {
   "cell_type": "markdown",
   "metadata": {},
   "source": [
    "### Categorical Data\n",
    "<a id = 'categoricaldata'></a>"
   ]
  },
  {
   "cell_type": "markdown",
   "metadata": {},
   "source": [
    "#### Age"
   ]
  },
  {
   "cell_type": "code",
   "execution_count": 52,
   "metadata": {},
   "outputs": [
    {
     "data": {
      "text/html": [
       "<div>\n",
       "<style scoped>\n",
       "    .dataframe tbody tr th:only-of-type {\n",
       "        vertical-align: middle;\n",
       "    }\n",
       "\n",
       "    .dataframe tbody tr th {\n",
       "        vertical-align: top;\n",
       "    }\n",
       "\n",
       "    .dataframe thead th {\n",
       "        text-align: right;\n",
       "    }\n",
       "</style>\n",
       "<table border=\"1\" class=\"dataframe\">\n",
       "  <thead>\n",
       "    <tr style=\"text-align: right;\">\n",
       "      <th></th>\n",
       "      <th>price</th>\n",
       "      <th>recommended</th>\n",
       "    </tr>\n",
       "    <tr>\n",
       "      <th>age</th>\n",
       "      <th></th>\n",
       "      <th></th>\n",
       "    </tr>\n",
       "  </thead>\n",
       "  <tbody>\n",
       "    <tr>\n",
       "      <th>13to17</th>\n",
       "      <td>38.947134</td>\n",
       "      <td>0.777070</td>\n",
       "    </tr>\n",
       "    <tr>\n",
       "      <th>18to24</th>\n",
       "      <td>39.703243</td>\n",
       "      <td>0.772536</td>\n",
       "    </tr>\n",
       "    <tr>\n",
       "      <th>25to34</th>\n",
       "      <td>40.718795</td>\n",
       "      <td>0.764514</td>\n",
       "    </tr>\n",
       "    <tr>\n",
       "      <th>35to44</th>\n",
       "      <td>40.609492</td>\n",
       "      <td>0.781015</td>\n",
       "    </tr>\n",
       "    <tr>\n",
       "      <th>45to54</th>\n",
       "      <td>41.608000</td>\n",
       "      <td>0.794667</td>\n",
       "    </tr>\n",
       "    <tr>\n",
       "      <th>over54</th>\n",
       "      <td>39.793400</td>\n",
       "      <td>0.766727</td>\n",
       "    </tr>\n",
       "  </tbody>\n",
       "</table>\n",
       "</div>"
      ],
      "text/plain": [
       "            price  recommended\n",
       "age                           \n",
       "13to17  38.947134     0.777070\n",
       "18to24  39.703243     0.772536\n",
       "25to34  40.718795     0.764514\n",
       "35to44  40.609492     0.781015\n",
       "45to54  41.608000     0.794667\n",
       "over54  39.793400     0.766727"
      ]
     },
     "execution_count": 52,
     "metadata": {},
     "output_type": "execute_result"
    }
   ],
   "source": [
    "df.groupby('age').mean()"
   ]
  },
  {
   "cell_type": "markdown",
   "metadata": {},
   "source": [
    "Age does not seem to have much of an impact on recommendation."
   ]
  },
  {
   "cell_type": "markdown",
   "metadata": {},
   "source": [
    "#### Skin Type"
   ]
  },
  {
   "cell_type": "code",
   "execution_count": 53,
   "metadata": {
    "scrolled": true
   },
   "outputs": [
    {
     "data": {
      "text/html": [
       "<div>\n",
       "<style scoped>\n",
       "    .dataframe tbody tr th:only-of-type {\n",
       "        vertical-align: middle;\n",
       "    }\n",
       "\n",
       "    .dataframe tbody tr th {\n",
       "        vertical-align: top;\n",
       "    }\n",
       "\n",
       "    .dataframe thead th {\n",
       "        text-align: right;\n",
       "    }\n",
       "</style>\n",
       "<table border=\"1\" class=\"dataframe\">\n",
       "  <thead>\n",
       "    <tr style=\"text-align: right;\">\n",
       "      <th></th>\n",
       "      <th>price</th>\n",
       "      <th>recommended</th>\n",
       "    </tr>\n",
       "    <tr>\n",
       "      <th>skin_type</th>\n",
       "      <th></th>\n",
       "      <th></th>\n",
       "    </tr>\n",
       "  </thead>\n",
       "  <tbody>\n",
       "    <tr>\n",
       "      <th>combination</th>\n",
       "      <td>39.987103</td>\n",
       "      <td>0.791436</td>\n",
       "    </tr>\n",
       "    <tr>\n",
       "      <th>dry</th>\n",
       "      <td>41.043926</td>\n",
       "      <td>0.778631</td>\n",
       "    </tr>\n",
       "    <tr>\n",
       "      <th>normal</th>\n",
       "      <td>39.968731</td>\n",
       "      <td>0.806893</td>\n",
       "    </tr>\n",
       "    <tr>\n",
       "      <th>oily</th>\n",
       "      <td>39.268809</td>\n",
       "      <td>0.780632</td>\n",
       "    </tr>\n",
       "  </tbody>\n",
       "</table>\n",
       "</div>"
      ],
      "text/plain": [
       "                 price  recommended\n",
       "skin_type                          \n",
       "combination  39.987103     0.791436\n",
       "dry          41.043926     0.778631\n",
       "normal       39.968731     0.806893\n",
       "oily         39.268809     0.780632"
      ]
     },
     "execution_count": 53,
     "metadata": {},
     "output_type": "execute_result"
    }
   ],
   "source": [
    "df.groupby('skin_type').mean()"
   ]
  },
  {
   "cell_type": "markdown",
   "metadata": {},
   "source": [
    "Skin type also seems to not have much of an impact on whether or not someone will recommend a product. However, people with normal and combination skin tend to recommend more than people with dry or oily skin. This is probably because most foundations try to gear their products to everyone, which means that it's tougher for people with dry/oily skin to find foundations that specifically deal with their skin issues. "
   ]
  },
  {
   "cell_type": "code",
   "execution_count": 54,
   "metadata": {},
   "outputs": [
    {
     "data": {
      "text/html": [
       "<div>\n",
       "<style scoped>\n",
       "    .dataframe tbody tr th:only-of-type {\n",
       "        vertical-align: middle;\n",
       "    }\n",
       "\n",
       "    .dataframe tbody tr th {\n",
       "        vertical-align: top;\n",
       "    }\n",
       "\n",
       "    .dataframe thead th {\n",
       "        text-align: right;\n",
       "    }\n",
       "</style>\n",
       "<table border=\"1\" class=\"dataframe\">\n",
       "  <thead>\n",
       "    <tr style=\"text-align: right;\">\n",
       "      <th></th>\n",
       "      <th>price</th>\n",
       "      <th>recommended</th>\n",
       "    </tr>\n",
       "    <tr>\n",
       "      <th>skin_concerns</th>\n",
       "      <th></th>\n",
       "      <th></th>\n",
       "    </tr>\n",
       "  </thead>\n",
       "  <tbody>\n",
       "    <tr>\n",
       "      <th>acne</th>\n",
       "      <td>39.672985</td>\n",
       "      <td>0.786904</td>\n",
       "    </tr>\n",
       "    <tr>\n",
       "      <th>aging</th>\n",
       "      <td>41.368924</td>\n",
       "      <td>0.796479</td>\n",
       "    </tr>\n",
       "    <tr>\n",
       "      <th>blackheads</th>\n",
       "      <td>39.698023</td>\n",
       "      <td>0.806755</td>\n",
       "    </tr>\n",
       "    <tr>\n",
       "      <th>calluses</th>\n",
       "      <td>38.806452</td>\n",
       "      <td>0.838710</td>\n",
       "    </tr>\n",
       "    <tr>\n",
       "      <th>cellulite</th>\n",
       "      <td>39.592126</td>\n",
       "      <td>0.823622</td>\n",
       "    </tr>\n",
       "    <tr>\n",
       "      <th>cuticles</th>\n",
       "      <td>39.804348</td>\n",
       "      <td>0.804348</td>\n",
       "    </tr>\n",
       "    <tr>\n",
       "      <th>darkCircles</th>\n",
       "      <td>39.973344</td>\n",
       "      <td>0.819602</td>\n",
       "    </tr>\n",
       "    <tr>\n",
       "      <th>dullness</th>\n",
       "      <td>41.550815</td>\n",
       "      <td>0.779482</td>\n",
       "    </tr>\n",
       "    <tr>\n",
       "      <th>pores</th>\n",
       "      <td>39.523715</td>\n",
       "      <td>0.766798</td>\n",
       "    </tr>\n",
       "    <tr>\n",
       "      <th>puffiness</th>\n",
       "      <td>38.850000</td>\n",
       "      <td>0.800000</td>\n",
       "    </tr>\n",
       "    <tr>\n",
       "      <th>redness</th>\n",
       "      <td>39.453456</td>\n",
       "      <td>0.769077</td>\n",
       "    </tr>\n",
       "    <tr>\n",
       "      <th>sensitivity</th>\n",
       "      <td>40.542951</td>\n",
       "      <td>0.832787</td>\n",
       "    </tr>\n",
       "    <tr>\n",
       "      <th>stretchMarks</th>\n",
       "      <td>39.925532</td>\n",
       "      <td>0.801418</td>\n",
       "    </tr>\n",
       "    <tr>\n",
       "      <th>sunDamage</th>\n",
       "      <td>40.643510</td>\n",
       "      <td>0.813528</td>\n",
       "    </tr>\n",
       "    <tr>\n",
       "      <th>unevenSkinTones</th>\n",
       "      <td>39.843113</td>\n",
       "      <td>0.804200</td>\n",
       "    </tr>\n",
       "  </tbody>\n",
       "</table>\n",
       "</div>"
      ],
      "text/plain": [
       "                     price  recommended\n",
       "skin_concerns                          \n",
       "acne             39.672985     0.786904\n",
       "aging            41.368924     0.796479\n",
       "blackheads       39.698023     0.806755\n",
       "calluses         38.806452     0.838710\n",
       "cellulite        39.592126     0.823622\n",
       "cuticles         39.804348     0.804348\n",
       "darkCircles      39.973344     0.819602\n",
       "dullness         41.550815     0.779482\n",
       "pores            39.523715     0.766798\n",
       "puffiness        38.850000     0.800000\n",
       "redness          39.453456     0.769077\n",
       "sensitivity      40.542951     0.832787\n",
       "stretchMarks     39.925532     0.801418\n",
       "sunDamage        40.643510     0.813528\n",
       "unevenSkinTones  39.843113     0.804200"
      ]
     },
     "execution_count": 54,
     "metadata": {},
     "output_type": "execute_result"
    }
   ],
   "source": [
    "df.groupby('skin_concerns').mean()"
   ]
  },
  {
   "cell_type": "markdown",
   "metadata": {},
   "source": [
    "Skin concerns, so far, do seem to show a little bit of difference in recommendation averages. While it is minimal, it worth nothing that people who have calluses and cellulite are the most likely to recommend a product. That may be because those skin concerns have nothing to do with face problems, and so those people do not have as many skin concerns about their face, and thus, are more open to certain items."
   ]
  },
  {
   "cell_type": "code",
   "execution_count": 55,
   "metadata": {},
   "outputs": [
    {
     "data": {
      "text/html": [
       "<div>\n",
       "<style scoped>\n",
       "    .dataframe tbody tr th:only-of-type {\n",
       "        vertical-align: middle;\n",
       "    }\n",
       "\n",
       "    .dataframe tbody tr th {\n",
       "        vertical-align: top;\n",
       "    }\n",
       "\n",
       "    .dataframe thead th {\n",
       "        text-align: right;\n",
       "    }\n",
       "</style>\n",
       "<table border=\"1\" class=\"dataframe\">\n",
       "  <thead>\n",
       "    <tr style=\"text-align: right;\">\n",
       "      <th></th>\n",
       "      <th>price</th>\n",
       "      <th>recommended</th>\n",
       "    </tr>\n",
       "    <tr>\n",
       "      <th>skin_tone</th>\n",
       "      <th></th>\n",
       "      <th></th>\n",
       "    </tr>\n",
       "  </thead>\n",
       "  <tbody>\n",
       "    <tr>\n",
       "      <th>dark</th>\n",
       "      <td>38.870563</td>\n",
       "      <td>0.873457</td>\n",
       "    </tr>\n",
       "    <tr>\n",
       "      <th>deep</th>\n",
       "      <td>39.383094</td>\n",
       "      <td>0.868759</td>\n",
       "    </tr>\n",
       "    <tr>\n",
       "      <th>ebony</th>\n",
       "      <td>38.942500</td>\n",
       "      <td>0.898333</td>\n",
       "    </tr>\n",
       "    <tr>\n",
       "      <th>fair</th>\n",
       "      <td>39.951922</td>\n",
       "      <td>0.752021</td>\n",
       "    </tr>\n",
       "    <tr>\n",
       "      <th>light</th>\n",
       "      <td>40.336194</td>\n",
       "      <td>0.773799</td>\n",
       "    </tr>\n",
       "    <tr>\n",
       "      <th>medium</th>\n",
       "      <td>40.299719</td>\n",
       "      <td>0.804222</td>\n",
       "    </tr>\n",
       "    <tr>\n",
       "      <th>olive</th>\n",
       "      <td>40.642492</td>\n",
       "      <td>0.827680</td>\n",
       "    </tr>\n",
       "    <tr>\n",
       "      <th>porcelain</th>\n",
       "      <td>39.339095</td>\n",
       "      <td>0.706139</td>\n",
       "    </tr>\n",
       "    <tr>\n",
       "      <th>tan</th>\n",
       "      <td>39.583477</td>\n",
       "      <td>0.837745</td>\n",
       "    </tr>\n",
       "  </tbody>\n",
       "</table>\n",
       "</div>"
      ],
      "text/plain": [
       "               price  recommended\n",
       "skin_tone                        \n",
       "dark       38.870563     0.873457\n",
       "deep       39.383094     0.868759\n",
       "ebony      38.942500     0.898333\n",
       "fair       39.951922     0.752021\n",
       "light      40.336194     0.773799\n",
       "medium     40.299719     0.804222\n",
       "olive      40.642492     0.827680\n",
       "porcelain  39.339095     0.706139\n",
       "tan        39.583477     0.837745"
      ]
     },
     "execution_count": 55,
     "metadata": {},
     "output_type": "execute_result"
    }
   ],
   "source": [
    "df.groupby('skin_tone').mean()"
   ]
  },
  {
   "cell_type": "markdown",
   "metadata": {},
   "source": [
    "Skin tone seems to change the recommended average a little more as well. One surprising feature is that people with darker skin tend to recommend products more, while people with lighter skin tend to be a little less likely to recommend products."
   ]
  },
  {
   "cell_type": "markdown",
   "metadata": {},
   "source": [
    "#### Brand Name"
   ]
  },
  {
   "cell_type": "code",
   "execution_count": 56,
   "metadata": {},
   "outputs": [
    {
     "data": {
      "text/html": [
       "<div>\n",
       "<style scoped>\n",
       "    .dataframe tbody tr th:only-of-type {\n",
       "        vertical-align: middle;\n",
       "    }\n",
       "\n",
       "    .dataframe tbody tr th {\n",
       "        vertical-align: top;\n",
       "    }\n",
       "\n",
       "    .dataframe thead th {\n",
       "        text-align: right;\n",
       "    }\n",
       "</style>\n",
       "<table border=\"1\" class=\"dataframe\">\n",
       "  <thead>\n",
       "    <tr style=\"text-align: right;\">\n",
       "      <th></th>\n",
       "      <th>price</th>\n",
       "      <th>recommended</th>\n",
       "    </tr>\n",
       "    <tr>\n",
       "      <th>brand</th>\n",
       "      <th></th>\n",
       "      <th></th>\n",
       "    </tr>\n",
       "  </thead>\n",
       "  <tbody>\n",
       "    <tr>\n",
       "      <th>AMOREPACIFIC</th>\n",
       "      <td>61.269841</td>\n",
       "      <td>0.833333</td>\n",
       "    </tr>\n",
       "    <tr>\n",
       "      <th>Anastasia Beverly Hills</th>\n",
       "      <td>25.000000</td>\n",
       "      <td>0.666129</td>\n",
       "    </tr>\n",
       "    <tr>\n",
       "      <th>Antonym</th>\n",
       "      <td>44.611111</td>\n",
       "      <td>0.722222</td>\n",
       "    </tr>\n",
       "    <tr>\n",
       "      <th>BECCA</th>\n",
       "      <td>43.866135</td>\n",
       "      <td>0.755378</td>\n",
       "    </tr>\n",
       "    <tr>\n",
       "      <th>BURBERRY</th>\n",
       "      <td>49.395349</td>\n",
       "      <td>0.744186</td>\n",
       "    </tr>\n",
       "    <tr>\n",
       "      <th>Benefit Cosmetics</th>\n",
       "      <td>31.730415</td>\n",
       "      <td>0.788018</td>\n",
       "    </tr>\n",
       "    <tr>\n",
       "      <th>Black Up</th>\n",
       "      <td>41.065217</td>\n",
       "      <td>0.782609</td>\n",
       "    </tr>\n",
       "    <tr>\n",
       "      <th>Bobbi Brown</th>\n",
       "      <td>47.186016</td>\n",
       "      <td>0.750660</td>\n",
       "    </tr>\n",
       "    <tr>\n",
       "      <th>CLINIQUE</th>\n",
       "      <td>29.756694</td>\n",
       "      <td>0.770081</td>\n",
       "    </tr>\n",
       "    <tr>\n",
       "      <th>COOLA</th>\n",
       "      <td>44.000000</td>\n",
       "      <td>0.719697</td>\n",
       "    </tr>\n",
       "    <tr>\n",
       "      <th>COVER FX</th>\n",
       "      <td>43.095238</td>\n",
       "      <td>0.774802</td>\n",
       "    </tr>\n",
       "    <tr>\n",
       "      <th>Charlotte Tilbury</th>\n",
       "      <td>44.787879</td>\n",
       "      <td>0.666667</td>\n",
       "    </tr>\n",
       "    <tr>\n",
       "      <th>Cinema Secrets</th>\n",
       "      <td>36.000000</td>\n",
       "      <td>0.500000</td>\n",
       "    </tr>\n",
       "    <tr>\n",
       "      <th>DERMAdoctor</th>\n",
       "      <td>38.000000</td>\n",
       "      <td>0.727273</td>\n",
       "    </tr>\n",
       "    <tr>\n",
       "      <th>Dior</th>\n",
       "      <td>48.490124</td>\n",
       "      <td>0.839064</td>\n",
       "    </tr>\n",
       "    <tr>\n",
       "      <th>Dr. Dennis Gross Skincare</th>\n",
       "      <td>42.000000</td>\n",
       "      <td>0.692308</td>\n",
       "    </tr>\n",
       "    <tr>\n",
       "      <th>Dr. Jart+</th>\n",
       "      <td>38.618271</td>\n",
       "      <td>0.802610</td>\n",
       "    </tr>\n",
       "    <tr>\n",
       "      <th>Erborian</th>\n",
       "      <td>40.054054</td>\n",
       "      <td>0.828829</td>\n",
       "    </tr>\n",
       "    <tr>\n",
       "      <th>Estée Lauder</th>\n",
       "      <td>42.073953</td>\n",
       "      <td>0.871126</td>\n",
       "    </tr>\n",
       "    <tr>\n",
       "      <th>FENTY BEAUTY by Rihanna</th>\n",
       "      <td>34.000000</td>\n",
       "      <td>0.789915</td>\n",
       "    </tr>\n",
       "    <tr>\n",
       "      <th>Giorgio Armani Beauty</th>\n",
       "      <td>62.023641</td>\n",
       "      <td>0.846927</td>\n",
       "    </tr>\n",
       "    <tr>\n",
       "      <th>Givenchy</th>\n",
       "      <td>49.883117</td>\n",
       "      <td>0.857143</td>\n",
       "    </tr>\n",
       "    <tr>\n",
       "      <th>Guerlain</th>\n",
       "      <td>57.748175</td>\n",
       "      <td>0.835766</td>\n",
       "    </tr>\n",
       "    <tr>\n",
       "      <th>HUDA BEAUTY</th>\n",
       "      <td>40.000000</td>\n",
       "      <td>0.660852</td>\n",
       "    </tr>\n",
       "    <tr>\n",
       "      <th>Hourglass</th>\n",
       "      <td>47.752905</td>\n",
       "      <td>0.777692</td>\n",
       "    </tr>\n",
       "    <tr>\n",
       "      <th>ILIA</th>\n",
       "      <td>53.108108</td>\n",
       "      <td>0.804054</td>\n",
       "    </tr>\n",
       "    <tr>\n",
       "      <th>IT Cosmetics</th>\n",
       "      <td>37.248366</td>\n",
       "      <td>0.774977</td>\n",
       "    </tr>\n",
       "    <tr>\n",
       "      <th>Josie Maran</th>\n",
       "      <td>44.634615</td>\n",
       "      <td>0.741453</td>\n",
       "    </tr>\n",
       "    <tr>\n",
       "      <th>Jouer Cosmetics</th>\n",
       "      <td>38.000000</td>\n",
       "      <td>0.700000</td>\n",
       "    </tr>\n",
       "    <tr>\n",
       "      <th>KEVYN AUCOIN</th>\n",
       "      <td>52.223301</td>\n",
       "      <td>0.825243</td>\n",
       "    </tr>\n",
       "    <tr>\n",
       "      <th>...</th>\n",
       "      <td>...</td>\n",
       "      <td>...</td>\n",
       "    </tr>\n",
       "    <tr>\n",
       "      <th>LAWLESS</th>\n",
       "      <td>46.000000</td>\n",
       "      <td>0.650794</td>\n",
       "    </tr>\n",
       "    <tr>\n",
       "      <th>La Mer</th>\n",
       "      <td>120.000000</td>\n",
       "      <td>0.784038</td>\n",
       "    </tr>\n",
       "    <tr>\n",
       "      <th>Lancôme</th>\n",
       "      <td>41.658774</td>\n",
       "      <td>0.902247</td>\n",
       "    </tr>\n",
       "    <tr>\n",
       "      <th>Laura Mercier</th>\n",
       "      <td>46.174153</td>\n",
       "      <td>0.840943</td>\n",
       "    </tr>\n",
       "    <tr>\n",
       "      <th>MAKE UP FOR EVER</th>\n",
       "      <td>41.050158</td>\n",
       "      <td>0.809772</td>\n",
       "    </tr>\n",
       "    <tr>\n",
       "      <th>MILK MAKEUP</th>\n",
       "      <td>40.354128</td>\n",
       "      <td>0.654128</td>\n",
       "    </tr>\n",
       "    <tr>\n",
       "      <th>Marc Jacobs Beauty</th>\n",
       "      <td>48.053643</td>\n",
       "      <td>0.766213</td>\n",
       "    </tr>\n",
       "    <tr>\n",
       "      <th>NARS</th>\n",
       "      <td>48.157709</td>\n",
       "      <td>0.691648</td>\n",
       "    </tr>\n",
       "    <tr>\n",
       "      <th>NUDESTIX</th>\n",
       "      <td>30.000000</td>\n",
       "      <td>0.681564</td>\n",
       "    </tr>\n",
       "    <tr>\n",
       "      <th>Natasha Denona</th>\n",
       "      <td>43.967742</td>\n",
       "      <td>0.645161</td>\n",
       "    </tr>\n",
       "    <tr>\n",
       "      <th>Perricone MD</th>\n",
       "      <td>60.000000</td>\n",
       "      <td>0.777778</td>\n",
       "    </tr>\n",
       "    <tr>\n",
       "      <th>Pretty Vulgar</th>\n",
       "      <td>44.000000</td>\n",
       "      <td>0.428571</td>\n",
       "    </tr>\n",
       "    <tr>\n",
       "      <th>SEPHORA COLLECTION</th>\n",
       "      <td>20.939137</td>\n",
       "      <td>0.824419</td>\n",
       "    </tr>\n",
       "    <tr>\n",
       "      <th>STELLAR</th>\n",
       "      <td>38.000000</td>\n",
       "      <td>0.811475</td>\n",
       "    </tr>\n",
       "    <tr>\n",
       "      <th>Shiseido</th>\n",
       "      <td>45.000000</td>\n",
       "      <td>0.875000</td>\n",
       "    </tr>\n",
       "    <tr>\n",
       "      <th>Smashbox</th>\n",
       "      <td>38.930394</td>\n",
       "      <td>0.791183</td>\n",
       "    </tr>\n",
       "    <tr>\n",
       "      <th>Supergoop!</th>\n",
       "      <td>34.000000</td>\n",
       "      <td>0.873418</td>\n",
       "    </tr>\n",
       "    <tr>\n",
       "      <th>TOM FORD</th>\n",
       "      <td>87.000000</td>\n",
       "      <td>0.784173</td>\n",
       "    </tr>\n",
       "    <tr>\n",
       "      <th>Too Faced</th>\n",
       "      <td>37.473139</td>\n",
       "      <td>0.809237</td>\n",
       "    </tr>\n",
       "    <tr>\n",
       "      <th>Urban Decay</th>\n",
       "      <td>39.636628</td>\n",
       "      <td>0.706880</td>\n",
       "    </tr>\n",
       "    <tr>\n",
       "      <th>Wander Beauty</th>\n",
       "      <td>40.000000</td>\n",
       "      <td>0.798122</td>\n",
       "    </tr>\n",
       "    <tr>\n",
       "      <th>Yves Saint Laurent</th>\n",
       "      <td>51.660606</td>\n",
       "      <td>0.835690</td>\n",
       "    </tr>\n",
       "    <tr>\n",
       "      <th>bareMinerals</th>\n",
       "      <td>31.065227</td>\n",
       "      <td>0.856457</td>\n",
       "    </tr>\n",
       "    <tr>\n",
       "      <th>beautyblender</th>\n",
       "      <td>40.000000</td>\n",
       "      <td>0.724731</td>\n",
       "    </tr>\n",
       "    <tr>\n",
       "      <th>lilah b.</th>\n",
       "      <td>50.117647</td>\n",
       "      <td>0.676471</td>\n",
       "    </tr>\n",
       "    <tr>\n",
       "      <th>philosophy</th>\n",
       "      <td>39.000000</td>\n",
       "      <td>0.825581</td>\n",
       "    </tr>\n",
       "    <tr>\n",
       "      <th>rms beauty</th>\n",
       "      <td>36.000000</td>\n",
       "      <td>0.788571</td>\n",
       "    </tr>\n",
       "    <tr>\n",
       "      <th>stila</th>\n",
       "      <td>39.689119</td>\n",
       "      <td>0.709845</td>\n",
       "    </tr>\n",
       "    <tr>\n",
       "      <th>surratt beauty</th>\n",
       "      <td>65.000000</td>\n",
       "      <td>0.823529</td>\n",
       "    </tr>\n",
       "    <tr>\n",
       "      <th>tarte</th>\n",
       "      <td>38.432635</td>\n",
       "      <td>0.751485</td>\n",
       "    </tr>\n",
       "  </tbody>\n",
       "</table>\n",
       "<p>63 rows × 2 columns</p>\n",
       "</div>"
      ],
      "text/plain": [
       "                                price  recommended\n",
       "brand                                             \n",
       "AMOREPACIFIC                61.269841     0.833333\n",
       "Anastasia Beverly Hills     25.000000     0.666129\n",
       "Antonym                     44.611111     0.722222\n",
       "BECCA                       43.866135     0.755378\n",
       "BURBERRY                    49.395349     0.744186\n",
       "Benefit Cosmetics           31.730415     0.788018\n",
       "Black Up                    41.065217     0.782609\n",
       "Bobbi Brown                 47.186016     0.750660\n",
       "CLINIQUE                    29.756694     0.770081\n",
       "COOLA                       44.000000     0.719697\n",
       "COVER FX                    43.095238     0.774802\n",
       "Charlotte Tilbury           44.787879     0.666667\n",
       "Cinema Secrets              36.000000     0.500000\n",
       "DERMAdoctor                 38.000000     0.727273\n",
       "Dior                        48.490124     0.839064\n",
       "Dr. Dennis Gross Skincare   42.000000     0.692308\n",
       "Dr. Jart+                   38.618271     0.802610\n",
       "Erborian                    40.054054     0.828829\n",
       "Estée Lauder                42.073953     0.871126\n",
       "FENTY BEAUTY by Rihanna     34.000000     0.789915\n",
       "Giorgio Armani Beauty       62.023641     0.846927\n",
       "Givenchy                    49.883117     0.857143\n",
       "Guerlain                    57.748175     0.835766\n",
       "HUDA BEAUTY                 40.000000     0.660852\n",
       "Hourglass                   47.752905     0.777692\n",
       "ILIA                        53.108108     0.804054\n",
       "IT Cosmetics                37.248366     0.774977\n",
       "Josie Maran                 44.634615     0.741453\n",
       "Jouer Cosmetics             38.000000     0.700000\n",
       "KEVYN AUCOIN                52.223301     0.825243\n",
       "...                               ...          ...\n",
       "LAWLESS                     46.000000     0.650794\n",
       "La Mer                     120.000000     0.784038\n",
       "Lancôme                     41.658774     0.902247\n",
       "Laura Mercier               46.174153     0.840943\n",
       "MAKE UP FOR EVER            41.050158     0.809772\n",
       "MILK MAKEUP                 40.354128     0.654128\n",
       "Marc Jacobs Beauty          48.053643     0.766213\n",
       "NARS                        48.157709     0.691648\n",
       "NUDESTIX                    30.000000     0.681564\n",
       "Natasha Denona              43.967742     0.645161\n",
       "Perricone MD                60.000000     0.777778\n",
       "Pretty Vulgar               44.000000     0.428571\n",
       "SEPHORA COLLECTION          20.939137     0.824419\n",
       "STELLAR                     38.000000     0.811475\n",
       "Shiseido                    45.000000     0.875000\n",
       "Smashbox                    38.930394     0.791183\n",
       "Supergoop!                  34.000000     0.873418\n",
       "TOM FORD                    87.000000     0.784173\n",
       "Too Faced                   37.473139     0.809237\n",
       "Urban Decay                 39.636628     0.706880\n",
       "Wander Beauty               40.000000     0.798122\n",
       "Yves Saint Laurent          51.660606     0.835690\n",
       "bareMinerals                31.065227     0.856457\n",
       "beautyblender               40.000000     0.724731\n",
       "lilah b.                    50.117647     0.676471\n",
       "philosophy                  39.000000     0.825581\n",
       "rms beauty                  36.000000     0.788571\n",
       "stila                       39.689119     0.709845\n",
       "surratt beauty              65.000000     0.823529\n",
       "tarte                       38.432635     0.751485\n",
       "\n",
       "[63 rows x 2 columns]"
      ]
     },
     "execution_count": 56,
     "metadata": {},
     "output_type": "execute_result"
    }
   ],
   "source": [
    "df.groupby('brand').mean()"
   ]
  },
  {
   "cell_type": "markdown",
   "metadata": {},
   "source": [
    "From the grouped data frame above, it looks  like brand does play an important role in whether or not people will recommend a product. For example, Cinema Secrets only has an average of 0.5000, which is well below the global average of 77% recommended."
   ]
  },
  {
   "cell_type": "code",
   "execution_count": 57,
   "metadata": {},
   "outputs": [
    {
     "data": {
      "text/html": [
       "<div>\n",
       "<style scoped>\n",
       "    .dataframe tbody tr th:only-of-type {\n",
       "        vertical-align: middle;\n",
       "    }\n",
       "\n",
       "    .dataframe tbody tr th {\n",
       "        vertical-align: top;\n",
       "    }\n",
       "\n",
       "    .dataframe thead th {\n",
       "        text-align: right;\n",
       "    }\n",
       "</style>\n",
       "<table border=\"1\" class=\"dataframe\">\n",
       "  <thead>\n",
       "    <tr style=\"text-align: right;\">\n",
       "      <th></th>\n",
       "      <th>price</th>\n",
       "      <th>recommended</th>\n",
       "    </tr>\n",
       "    <tr>\n",
       "      <th>name</th>\n",
       "      <th></th>\n",
       "      <th></th>\n",
       "    </tr>\n",
       "  </thead>\n",
       "  <tbody>\n",
       "    <tr>\n",
       "      <th>#FauxFilter Foundation</th>\n",
       "      <td>40.0</td>\n",
       "      <td>0.660852</td>\n",
       "    </tr>\n",
       "    <tr>\n",
       "      <th>10 HR Wear Perfection Foundation</th>\n",
       "      <td>20.0</td>\n",
       "      <td>0.780711</td>\n",
       "    </tr>\n",
       "    <tr>\n",
       "      <th>8 HR Mattifying Compact Foundation</th>\n",
       "      <td>20.0</td>\n",
       "      <td>0.900000</td>\n",
       "    </tr>\n",
       "    <tr>\n",
       "      <th>Acne Solutions BB Cream Broad Spectrum SPF 40</th>\n",
       "      <td>39.0</td>\n",
       "      <td>0.815068</td>\n",
       "    </tr>\n",
       "    <tr>\n",
       "      <th>Acne Solutions Liquid Makeup</th>\n",
       "      <td>29.0</td>\n",
       "      <td>0.838462</td>\n",
       "    </tr>\n",
       "    <tr>\n",
       "      <th>Age Defense BB Cream Broad Spectrum SPF 30</th>\n",
       "      <td>39.0</td>\n",
       "      <td>0.600000</td>\n",
       "    </tr>\n",
       "    <tr>\n",
       "      <th>All Day Luminous Weightless Foundation</th>\n",
       "      <td>49.0</td>\n",
       "      <td>0.640669</td>\n",
       "    </tr>\n",
       "    <tr>\n",
       "      <th>All Hours Longwear Natural Matte Foundation</th>\n",
       "      <td>54.0</td>\n",
       "      <td>0.799743</td>\n",
       "    </tr>\n",
       "    <tr>\n",
       "      <th>All Hours Stick Foundation</th>\n",
       "      <td>48.0</td>\n",
       "      <td>0.909091</td>\n",
       "    </tr>\n",
       "    <tr>\n",
       "      <th>All Nighter Liquid Foundation</th>\n",
       "      <td>40.0</td>\n",
       "      <td>0.617591</td>\n",
       "    </tr>\n",
       "    <tr>\n",
       "      <th>Amazonian Clay 12-Hour Full Coverage Foundation SPF 15</th>\n",
       "      <td>39.0</td>\n",
       "      <td>0.735586</td>\n",
       "    </tr>\n",
       "    <tr>\n",
       "      <th>Amazonian Clay BB Tinted Moisturizer Broad Spectrum SPF 20 Sunscreen</th>\n",
       "      <td>36.0</td>\n",
       "      <td>0.816038</td>\n",
       "    </tr>\n",
       "    <tr>\n",
       "      <th>Amazonian Clay Full Coverage Airbrush Foundation</th>\n",
       "      <td>36.0</td>\n",
       "      <td>0.830986</td>\n",
       "    </tr>\n",
       "    <tr>\n",
       "      <th>Aqua Foundation</th>\n",
       "      <td>70.0</td>\n",
       "      <td>0.769231</td>\n",
       "    </tr>\n",
       "    <tr>\n",
       "      <th>Aqua Luminous Perfecting Foundation</th>\n",
       "      <td>44.0</td>\n",
       "      <td>0.725322</td>\n",
       "    </tr>\n",
       "    <tr>\n",
       "      <th>Argan Matchmaker Serum Foundation</th>\n",
       "      <td>42.0</td>\n",
       "      <td>0.842105</td>\n",
       "    </tr>\n",
       "    <tr>\n",
       "      <th>BACKSTAGE Face &amp; Body Foundation</th>\n",
       "      <td>40.0</td>\n",
       "      <td>0.881095</td>\n",
       "    </tr>\n",
       "    <tr>\n",
       "      <th>BAREPRO Performance Wear Powder Foundation</th>\n",
       "      <td>30.0</td>\n",
       "      <td>0.845161</td>\n",
       "    </tr>\n",
       "    <tr>\n",
       "      <th>BB Cream SPF 35</th>\n",
       "      <td>47.0</td>\n",
       "      <td>0.768116</td>\n",
       "    </tr>\n",
       "    <tr>\n",
       "      <th>BB Crème au Ginseng</th>\n",
       "      <td>39.0</td>\n",
       "      <td>0.846939</td>\n",
       "    </tr>\n",
       "    <tr>\n",
       "      <th>BB Cushion Hydra Radiance SPF 50</th>\n",
       "      <td>38.0</td>\n",
       "      <td>0.913580</td>\n",
       "    </tr>\n",
       "    <tr>\n",
       "      <th>BB Cushion Pore Blur</th>\n",
       "      <td>38.0</td>\n",
       "      <td>0.730769</td>\n",
       "    </tr>\n",
       "    <tr>\n",
       "      <th>BB Tinted Treatment 12-Hour Primer Broad Spectrum SPF 30 Sunscreen</th>\n",
       "      <td>37.0</td>\n",
       "      <td>0.814815</td>\n",
       "    </tr>\n",
       "    <tr>\n",
       "      <th>BarePRO™ Performance Wear Liquid Foundation Broad Spectrum SPF 20</th>\n",
       "      <td>34.0</td>\n",
       "      <td>0.858873</td>\n",
       "    </tr>\n",
       "    <tr>\n",
       "      <th>Beyond Perfecting Foundation + Concealer</th>\n",
       "      <td>29.0</td>\n",
       "      <td>0.705333</td>\n",
       "    </tr>\n",
       "    <tr>\n",
       "      <th>Beyond Perfecting Powder Foundation + Concealer</th>\n",
       "      <td>29.0</td>\n",
       "      <td>0.700000</td>\n",
       "    </tr>\n",
       "    <tr>\n",
       "      <th>Bienfait Teinté Beauty Balm Sunscreen Broad Spectrum SPF 30</th>\n",
       "      <td>49.0</td>\n",
       "      <td>0.785714</td>\n",
       "    </tr>\n",
       "    <tr>\n",
       "      <th>Bird's Nest Blurring Beauty Mousse Foundation</th>\n",
       "      <td>44.0</td>\n",
       "      <td>0.428571</td>\n",
       "    </tr>\n",
       "    <tr>\n",
       "      <th>Black Label Detox BB Beauty Balm</th>\n",
       "      <td>36.0</td>\n",
       "      <td>0.692308</td>\n",
       "    </tr>\n",
       "    <tr>\n",
       "      <th>Blemish Rescue Skin-Clearing Loose Powder Foundation – For Acne Prone Skin</th>\n",
       "      <td>29.0</td>\n",
       "      <td>0.922660</td>\n",
       "    </tr>\n",
       "    <tr>\n",
       "      <th>...</th>\n",
       "      <td>...</td>\n",
       "      <td>...</td>\n",
       "    </tr>\n",
       "    <tr>\n",
       "      <th>Traceless Foundation Broad Spectrum SPF 15</th>\n",
       "      <td>87.0</td>\n",
       "      <td>0.842105</td>\n",
       "    </tr>\n",
       "    <tr>\n",
       "      <th>Traceless Foundation Stick</th>\n",
       "      <td>87.0</td>\n",
       "      <td>0.835616</td>\n",
       "    </tr>\n",
       "    <tr>\n",
       "      <th>Traceless Perfecting Foundation Broad Spectrum SPF 15</th>\n",
       "      <td>87.0</td>\n",
       "      <td>0.523810</td>\n",
       "    </tr>\n",
       "    <tr>\n",
       "      <th>Transformatte Pore Vanishing Matte Foundation</th>\n",
       "      <td>45.0</td>\n",
       "      <td>0.666667</td>\n",
       "    </tr>\n",
       "    <tr>\n",
       "      <th>True Skin Serum Foundation</th>\n",
       "      <td>54.0</td>\n",
       "      <td>0.817518</td>\n",
       "    </tr>\n",
       "    <tr>\n",
       "      <th>Two Way Cake</th>\n",
       "      <td>39.5</td>\n",
       "      <td>1.000000</td>\n",
       "    </tr>\n",
       "    <tr>\n",
       "      <th>Ultimate Coverage 24-Hour Foundation</th>\n",
       "      <td>44.0</td>\n",
       "      <td>0.773779</td>\n",
       "    </tr>\n",
       "    <tr>\n",
       "      <th>Ultimate Foundation 5-in-1 Pro Palette™</th>\n",
       "      <td>36.0</td>\n",
       "      <td>0.500000</td>\n",
       "    </tr>\n",
       "    <tr>\n",
       "      <th>Ultra HD Invisible Cover Foundation</th>\n",
       "      <td>43.0</td>\n",
       "      <td>0.823976</td>\n",
       "    </tr>\n",
       "    <tr>\n",
       "      <th>Ultra HD Invisible Cover Stick Foundation</th>\n",
       "      <td>43.0</td>\n",
       "      <td>0.755459</td>\n",
       "    </tr>\n",
       "    <tr>\n",
       "      <th>Ultra HD Perfector Skin Tint Foundation SPF 25</th>\n",
       "      <td>36.0</td>\n",
       "      <td>0.864641</td>\n",
       "    </tr>\n",
       "    <tr>\n",
       "      <th>Un Cover-Up Concealer/Foundation</th>\n",
       "      <td>36.0</td>\n",
       "      <td>0.788571</td>\n",
       "    </tr>\n",
       "    <tr>\n",
       "      <th>Vanish™ Seamless Finish Foundation Stick</th>\n",
       "      <td>46.0</td>\n",
       "      <td>0.796547</td>\n",
       "    </tr>\n",
       "    <tr>\n",
       "      <th>Veil Fluid Makeup Oil Free Broad Spectrum SPF 15</th>\n",
       "      <td>60.0</td>\n",
       "      <td>0.794118</td>\n",
       "    </tr>\n",
       "    <tr>\n",
       "      <th>Velvet Matte Foundation Stick</th>\n",
       "      <td>45.0</td>\n",
       "      <td>0.596939</td>\n",
       "    </tr>\n",
       "    <tr>\n",
       "      <th>Vibrancy Argan Oil Foundation Fluid</th>\n",
       "      <td>45.0</td>\n",
       "      <td>0.727494</td>\n",
       "    </tr>\n",
       "    <tr>\n",
       "      <th>Wanderlust Powder Foundation</th>\n",
       "      <td>40.0</td>\n",
       "      <td>0.760331</td>\n",
       "    </tr>\n",
       "    <tr>\n",
       "      <th>Water Blend Face &amp; Body Foundation</th>\n",
       "      <td>43.0</td>\n",
       "      <td>0.780612</td>\n",
       "    </tr>\n",
       "    <tr>\n",
       "      <th>Water Foundation Broad Spectrum SPF 15 - Rainforest of the Sea™ Collection</th>\n",
       "      <td>39.0</td>\n",
       "      <td>0.740522</td>\n",
       "    </tr>\n",
       "    <tr>\n",
       "      <th>Waterproof Foundation &amp; Concealer</th>\n",
       "      <td>87.0</td>\n",
       "      <td>0.807692</td>\n",
       "    </tr>\n",
       "    <tr>\n",
       "      <th>Woke Up Like This Flawless Finish Foundation</th>\n",
       "      <td>46.0</td>\n",
       "      <td>0.650794</td>\n",
       "    </tr>\n",
       "    <tr>\n",
       "      <th>Wonderful Cushion Foundation</th>\n",
       "      <td>24.0</td>\n",
       "      <td>0.555556</td>\n",
       "    </tr>\n",
       "    <tr>\n",
       "      <th>Your Skin But Better CC+ Cream Oil-Free Matte with SPF 40</th>\n",
       "      <td>38.0</td>\n",
       "      <td>0.747651</td>\n",
       "    </tr>\n",
       "    <tr>\n",
       "      <th>Your Skin But Better CC+ Illumination Cream with SPF 50+</th>\n",
       "      <td>38.0</td>\n",
       "      <td>0.701389</td>\n",
       "    </tr>\n",
       "    <tr>\n",
       "      <th>Your Skin But Better™ CC+ Airbrush Perfecting Powder™ with SPF 50+</th>\n",
       "      <td>35.0</td>\n",
       "      <td>0.672566</td>\n",
       "    </tr>\n",
       "    <tr>\n",
       "      <th>Your Skin But Better™ CC+Illumination™ Cream with SPF 50+</th>\n",
       "      <td>38.0</td>\n",
       "      <td>0.726644</td>\n",
       "    </tr>\n",
       "    <tr>\n",
       "      <th>Your Skin But Better™ CC+™ Cream with SPF 50+</th>\n",
       "      <td>38.0</td>\n",
       "      <td>0.798858</td>\n",
       "    </tr>\n",
       "    <tr>\n",
       "      <th>bareSkin® Pure Brightening Serum Foundation Broad Spectrum SPF 20</th>\n",
       "      <td>30.0</td>\n",
       "      <td>0.539062</td>\n",
       "    </tr>\n",
       "    <tr>\n",
       "      <th>’Hello Flawless!’ Oxygen Wow Liquid Foundation</th>\n",
       "      <td>36.0</td>\n",
       "      <td>0.757895</td>\n",
       "    </tr>\n",
       "    <tr>\n",
       "      <th>’Hello Flawless!’ Powder Foundation</th>\n",
       "      <td>34.0</td>\n",
       "      <td>0.876289</td>\n",
       "    </tr>\n",
       "  </tbody>\n",
       "</table>\n",
       "<p>217 rows × 2 columns</p>\n",
       "</div>"
      ],
      "text/plain": [
       "                                                    price  recommended\n",
       "name                                                                  \n",
       "#FauxFilter Foundation                               40.0     0.660852\n",
       "10 HR Wear Perfection Foundation                     20.0     0.780711\n",
       "8 HR Mattifying Compact Foundation                   20.0     0.900000\n",
       "Acne Solutions BB Cream Broad Spectrum SPF 40        39.0     0.815068\n",
       "Acne Solutions Liquid Makeup                         29.0     0.838462\n",
       "Age Defense BB Cream Broad Spectrum SPF 30           39.0     0.600000\n",
       "All Day Luminous Weightless Foundation               49.0     0.640669\n",
       "All Hours Longwear Natural Matte Foundation          54.0     0.799743\n",
       "All Hours Stick Foundation                           48.0     0.909091\n",
       "All Nighter Liquid Foundation                        40.0     0.617591\n",
       "Amazonian Clay 12-Hour Full Coverage Foundation...   39.0     0.735586\n",
       "Amazonian Clay BB Tinted Moisturizer Broad Spec...   36.0     0.816038\n",
       "Amazonian Clay Full Coverage Airbrush Foundation     36.0     0.830986\n",
       "Aqua Foundation                                      70.0     0.769231\n",
       "Aqua Luminous Perfecting Foundation                  44.0     0.725322\n",
       "Argan Matchmaker Serum Foundation                    42.0     0.842105\n",
       "BACKSTAGE Face & Body Foundation                     40.0     0.881095\n",
       "BAREPRO Performance Wear Powder Foundation           30.0     0.845161\n",
       "BB Cream SPF 35                                      47.0     0.768116\n",
       "BB Crème au Ginseng                                  39.0     0.846939\n",
       "BB Cushion Hydra Radiance SPF 50                     38.0     0.913580\n",
       "BB Cushion Pore Blur                                 38.0     0.730769\n",
       "BB Tinted Treatment 12-Hour Primer Broad Spectr...   37.0     0.814815\n",
       "BarePRO™ Performance Wear Liquid Foundation Bro...   34.0     0.858873\n",
       "Beyond Perfecting Foundation + Concealer             29.0     0.705333\n",
       "Beyond Perfecting Powder Foundation + Concealer      29.0     0.700000\n",
       "Bienfait Teinté Beauty Balm Sunscreen Broad Spe...   49.0     0.785714\n",
       "Bird's Nest Blurring Beauty Mousse Foundation        44.0     0.428571\n",
       "Black Label Detox BB Beauty Balm                     36.0     0.692308\n",
       "Blemish Rescue Skin-Clearing Loose Powder Found...   29.0     0.922660\n",
       "...                                                   ...          ...\n",
       "Traceless Foundation Broad Spectrum SPF 15           87.0     0.842105\n",
       "Traceless Foundation Stick                           87.0     0.835616\n",
       "Traceless Perfecting Foundation Broad Spectrum ...   87.0     0.523810\n",
       "Transformatte Pore Vanishing Matte Foundation        45.0     0.666667\n",
       "True Skin Serum Foundation                           54.0     0.817518\n",
       "Two Way Cake                                         39.5     1.000000\n",
       "Ultimate Coverage 24-Hour Foundation                 44.0     0.773779\n",
       "Ultimate Foundation 5-in-1 Pro Palette™              36.0     0.500000\n",
       "Ultra HD Invisible Cover Foundation                  43.0     0.823976\n",
       "Ultra HD Invisible Cover Stick Foundation            43.0     0.755459\n",
       "Ultra HD Perfector Skin Tint Foundation SPF 25       36.0     0.864641\n",
       "Un Cover-Up Concealer/Foundation                     36.0     0.788571\n",
       "Vanish™ Seamless Finish Foundation Stick             46.0     0.796547\n",
       "Veil Fluid Makeup Oil Free Broad Spectrum SPF 15     60.0     0.794118\n",
       "Velvet Matte Foundation Stick                        45.0     0.596939\n",
       "Vibrancy Argan Oil Foundation Fluid                  45.0     0.727494\n",
       "Wanderlust Powder Foundation                         40.0     0.760331\n",
       "Water Blend Face & Body Foundation                   43.0     0.780612\n",
       "Water Foundation Broad Spectrum SPF 15 - Rainfo...   39.0     0.740522\n",
       "Waterproof Foundation & Concealer                    87.0     0.807692\n",
       "Woke Up Like This Flawless Finish Foundation         46.0     0.650794\n",
       "Wonderful Cushion Foundation                         24.0     0.555556\n",
       "Your Skin But Better CC+ Cream Oil-Free Matte w...   38.0     0.747651\n",
       "Your Skin But Better CC+ Illumination Cream wit...   38.0     0.701389\n",
       "Your Skin But Better™ CC+ Airbrush Perfecting P...   35.0     0.672566\n",
       "Your Skin But Better™ CC+Illumination™ Cream wi...   38.0     0.726644\n",
       "Your Skin But Better™ CC+™ Cream with SPF 50+        38.0     0.798858\n",
       "bareSkin® Pure Brightening Serum Foundation Bro...   30.0     0.539062\n",
       "’Hello Flawless!’ Oxygen Wow Liquid Foundation       36.0     0.757895\n",
       "’Hello Flawless!’ Powder Foundation                  34.0     0.876289\n",
       "\n",
       "[217 rows x 2 columns]"
      ]
     },
     "execution_count": 57,
     "metadata": {},
     "output_type": "execute_result"
    }
   ],
   "source": [
    "df.groupby('name').mean()"
   ]
  },
  {
   "cell_type": "markdown",
   "metadata": {},
   "source": [
    "When we make our products features in the data, we see the largest amount of variation between recommendation averages. This is because the product is the most important part in whether or not someone will recommend an item."
   ]
  },
  {
   "cell_type": "markdown",
   "metadata": {},
   "source": [
    "## Prepare Data\n",
    "<a id = 'preparedata'></a>"
   ]
  },
  {
   "cell_type": "markdown",
   "metadata": {},
   "source": [
    "### Converting Categorical Data into Dummy Variables\n",
    "<a id = 'convert'></a>"
   ]
  },
  {
   "cell_type": "code",
   "execution_count": 3,
   "metadata": {},
   "outputs": [],
   "source": [
    "df = pd.get_dummies(df, columns=['brand','name','skin_type', 'skin_tone', 'skin_concerns','age'], \n",
    "                    prefix=['brand','name','skin_type', 'skin_tone','skin_concerns','age'])"
   ]
  },
  {
   "cell_type": "markdown",
   "metadata": {},
   "source": [
    "### Over-sampling Our Data Using SMOTE\n",
    "<a id = 'smote'></a>\n",
    "\n",
    "With the training data, we are going to over-sample the 'no-recommendation' group using the SMOTE algorithm (Synthetic Minority Oversampling Technique). It works by creating synthetic samples from the minority class, which in are case, is the 'no-recommendation' group, but it doesn't do it by making copies. It randomly chooses one of the k-Nearest Neighbors and uses it to recreate similar (with some randome changes) observations. "
   ]
  },
  {
   "cell_type": "code",
   "execution_count": 110,
   "metadata": {},
   "outputs": [
    {
     "name": "stdout",
     "output_type": "stream",
     "text": [
      "Length of oversampled data is  103462\n",
      "Number of no recommendation in oversampled data 51731\n",
      "Number of recommendation 51731\n",
      "Proportion of no recommendation data in oversampled data is  0.5\n",
      "Proportion of recommendation data in oversampled data is  0.5\n"
     ]
    }
   ],
   "source": [
    "#code from: https://towardsdatascience.com/building-a-logistic-regression-in-python-step-by-step-becd4d56c9c8\n",
    "X = df.loc[:, df.columns != 'recommended']\n",
    "y = df.loc[:, df.columns == 'recommended']\n",
    "\n",
    "os = SMOTE(random_state=0)\n",
    "X_train, X_test, y_train, y_test = train_test_split(X, y, test_size=0.2, random_state=0)\n",
    "columns = X_train.columns\n",
    "os_data_X,os_data_y=os.fit_sample(X_train, y_train)\n",
    "os_data_X = pd.DataFrame(data=os_data_X,columns=columns )\n",
    "os_data_y= pd.DataFrame(data=os_data_y,columns=['y'])\n",
    "\n",
    "#Check the numbers of our data\n",
    "print(\"Length of oversampled data is \",len(os_data_X))\n",
    "print(\"Number of no recommendation in oversampled data\",len(os_data_y[os_data_y['y']==0]))\n",
    "print(\"Number of recommendation\",len(os_data_y[os_data_y['y']==1]))\n",
    "print(\"Proportion of no recommendation data in oversampled data is \",len(os_data_y[os_data_y['y']==0])/len(os_data_X))\n",
    "print(\"Proportion of recommendation data in oversampled data is \",len(os_data_y[os_data_y['y']==1])/len(os_data_X))"
   ]
  },
  {
   "cell_type": "markdown",
   "metadata": {},
   "source": [
    "## Machine Learning Algorithms\n",
    "<a id='machinelearning'></a>"
   ]
  },
  {
   "cell_type": "markdown",
   "metadata": {},
   "source": [
    "The fun part finally begins."
   ]
  },
  {
   "cell_type": "markdown",
   "metadata": {},
   "source": [
    "### Logistic Regression\n",
    "<a id = 'logreg'></a>"
   ]
  },
  {
   "cell_type": "markdown",
   "metadata": {},
   "source": [
    "Because we are trying to predict a binary outcome (either a person will recommend or not recommend a product), it seemed like an obvious choice to use logistic regression as one of our algorithms. \n",
    "\n",
    "The first thing we want to do, however, is use recursive feature elimination to select features that actually have an impact."
   ]
  },
  {
   "cell_type": "markdown",
   "metadata": {},
   "source": [
    "#### Recursive Feature Elimination"
   ]
  },
  {
   "cell_type": "code",
   "execution_count": 5,
   "metadata": {},
   "outputs": [
    {
     "name": "stdout",
     "output_type": "stream",
     "text": [
      "[False False False False False False False False False False False False\n",
      " False False False False False False False False False False False False\n",
      " False False False False False False False False False False False False\n",
      " False False False False False False False False False False False False\n",
      " False False False False False False False False False False False False\n",
      " False False False False False False False False False False False False\n",
      "  True False False False False False False False False False False False\n",
      " False False False False False False False False False  True False False\n",
      " False False False False False False False False False False False False\n",
      " False False False False False False  True  True False False False False\n",
      " False False  True False False False False False  True False False False\n",
      " False False False False False False False False False False  True False\n",
      " False False False False False False False False False False  True  True\n",
      " False False False False False False False  True False False  True False\n",
      " False False False False False False False False False False False False\n",
      " False False False False False False  True False False False False False\n",
      " False False False False False False False False False False False False\n",
      " False  True False False False False False False False False False False\n",
      " False False False False False False False False False False False False\n",
      " False False False False False False False False False  True False False\n",
      "  True  True False False False False False False  True False False False\n",
      " False  True False False False False False False False False False False\n",
      " False False False False False False False False False False False False\n",
      " False False  True False False False False False False False False  True\n",
      " False False False False False False False False False False False False\n",
      " False False False False False False False False False False False False\n",
      " False False False]\n",
      "[296 149 164 235 174 270 251 264 295 118 256 243 196  54 283 227 122 288\n",
      " 146 267 249  81  64  70 151 233 170 234 177 208 185 213 289 192  93 205\n",
      "  63 201 181 203 248 159 143  36 247 244   7  38  45 182  75 216 254 212\n",
      "  66  51  79 218 108 268 245 204 266 258  39   6 105 210  25  98  31  52\n",
      "   1  30 190 148 157 280 262  13  29 230 279   8  11 198 183 265 106 115\n",
      " 104 217 238   1  33 219 163   5  85 165  78  55 272 222 161 167 175 117\n",
      " 119 292  87  41 276 101   1   1  44  94 228 236 237 226   1 129   2 152\n",
      "  59  28   1 103 209 294  40 239  80 260  43  92 287  22  50 246   1  17\n",
      " 291  84  18  68  46 186 195 120  72  73   1   1 147 180 214  89 285 284\n",
      " 199   1  37   4   1  34  26 224 225 229 112 107 109 191  12 282  71 255\n",
      "  95 211  96  35 261 293   1 207  91  67 111  86  15 187  82 241 178 242\n",
      "  77 271  61  62  97 278 173   1 259 156 158  23 200 223  48 171 250  83\n",
      " 263  19 220  10 100 114  24  57 273 202 116 193  16 197 123 166  53 286\n",
      " 145 172  56   1 110  69   1   1  49 125  32 184 281   9   1 221 121 215\n",
      " 155   1 275 169 113 194  20 277 179  60 257 232  76  14 176  65 240 206\n",
      " 153 168   3 274 188  47 269 231   1 252  58 132 133 137 131  21  27   1\n",
      " 290 253 162  90 189  88 141 138 130  42 124 128 126 140 139 136 134  74\n",
      " 135  99 127 160 144 154 150 102 142]\n"
     ]
    }
   ],
   "source": [
    "data_final=df.columns.values.tolist()\n",
    "y=['recommended']\n",
    "X=[i for i in data_final if i not in y]\n",
    "\n",
    "logreg = LogisticRegression()\n",
    "rfe = RFE(logreg, 20)\n",
    "rfe = rfe.fit(os_data_X, os_data_y.values.ravel())\n",
    "print(rfe.support_)\n",
    "print(rfe.ranking_)"
   ]
  },
  {
   "cell_type": "code",
   "execution_count": 8,
   "metadata": {},
   "outputs": [],
   "source": [
    "cols = [data_final[i] for i in range(315) if rfe.support_[i] == True]\n",
    "X = os_data_X[cols]\n",
    "y = os_data_y['y']"
   ]
  },
  {
   "cell_type": "code",
   "execution_count": 9,
   "metadata": {},
   "outputs": [
    {
     "data": {
      "text/plain": [
       "['name_All Hours Longwear Natural Matte Foundation',\n",
       " 'name_Black Label Detox BB Beauty Balm',\n",
       " 'name_DUAL FINISH – Multi-tasking Longwear Powder Foundation',\n",
       " 'name_DayWear BB Anti-Oxidant Beauty Benefit Crème SPF 35',\n",
       " 'name_Diorskin Nude Air Serum Foundation',\n",
       " 'name_Double Wear Stay-in-Place Powder Foundation',\n",
       " 'name_Fresh Glow Foundation Gel Stick Foundation & Concealer',\n",
       " 'name_Lingerie de Peau Aqua Nude Foundation',\n",
       " 'name_Lingerie de Peau BB Cream',\n",
       " 'name_MOISTURE BOUND Tinted Treatment Moisturizer SPF 15',\n",
       " 'name_Make No Mistake Foundation & Concealer Stick',\n",
       " 'name_Nothing Beats the Original™ Complexion Kit',\n",
       " 'name_Rōsilliance™ Organic BB+ Cream SPF 30',\n",
       " 'name_Teint Idole Ultra Longwear Cushion Foundation SPF 50',\n",
       " 'name_Tenue de Perfection Long-lasting Liquid Foundation',\n",
       " 'name_Terracotta  Healthy Glow Liquid Foundation SPF 20',\n",
       " 'name_Tinted Moisturizer Broad Spectrum SPF 20',\n",
       " 'name_Traceless Foundation Stick',\n",
       " 'name_Your Skin But Better™ CC+™ Cream with SPF 50+',\n",
       " 'skin_tone_deep']"
      ]
     },
     "execution_count": 9,
     "metadata": {},
     "output_type": "execute_result"
    }
   ],
   "source": [
    "cols"
   ]
  },
  {
   "cell_type": "markdown",
   "metadata": {},
   "source": [
    "The features that we are keeping in the model are listed above. None of the user characteristics make it into the model due to low significance. This is concerning becuase things like skin type do matter to what foundations you choose, but apparently, the logistic regression framework cannot account for that. However, we will still continue with this set-up to see what we get."
   ]
  },
  {
   "cell_type": "markdown",
   "metadata": {},
   "source": [
    "#### Removing More Features"
   ]
  },
  {
   "cell_type": "code",
   "execution_count": 11,
   "metadata": {},
   "outputs": [
    {
     "name": "stdout",
     "output_type": "stream",
     "text": [
      "Warning: Maximum number of iterations has been exceeded.\n",
      "         Current function value: 0.689930\n",
      "         Iterations: 35\n",
      "         Function evaluations: 38\n",
      "         Gradient evaluations: 38\n",
      "                                              Results: Logit\n",
      "===========================================================================================================\n",
      "Model:                             Logit                         Pseudo R-squared:              0.005      \n",
      "Dependent Variable:                y                             AIC:                           142802.9901\n",
      "Date:                              2018-12-09 11:37              BIC:                           142993.9293\n",
      "No. Observations:                  103462                        Log-Likelihood:                -71381.    \n",
      "Df Model:                          19                            LL-Null:                       -71714.    \n",
      "Df Residuals:                      103442                        LLR p-value:                   6.2840e-129\n",
      "Converged:                         0.0000                        Scale:                         1.0000     \n",
      "-----------------------------------------------------------------------------------------------------------\n",
      "                                                             Coef.  Std.Err.    z    P>|z|   [0.025  0.975]\n",
      "-----------------------------------------------------------------------------------------------------------\n",
      "name_All Hours Longwear Natural Matte Foundation            -0.0012   0.0629 -0.0186 0.9852 -0.1245  0.1221\n",
      "name_Black Label Detox BB Beauty Balm                       -0.1419   0.1920 -0.7394 0.4596 -0.5182  0.2343\n",
      "name_DUAL FINISH – Multi-tasking Longwear Powder Foundation  0.0513   0.1999  0.2567 0.7974 -0.3405  0.4432\n",
      "name_DayWear BB Anti-Oxidant Beauty Benefit Crème SPF 35    -0.0828   0.6446 -0.1285 0.8978 -1.3461  1.1805\n",
      "name_Diorskin Nude Air Serum Foundation                     -0.0729   0.1711 -0.4258 0.6703 -0.4083  0.2625\n",
      "name_Double Wear Stay-in-Place Powder Foundation             0.1013   0.3958  0.2559 0.7980 -0.6745  0.8771\n",
      "name_Fresh Glow Foundation Gel Stick Foundation & Concealer -0.0048   0.7438 -0.0064 0.9949 -1.4626  1.4530\n",
      "name_Lingerie de Peau Aqua Nude Foundation                   0.0210   0.3069  0.0686 0.9453 -0.5805  0.6226\n",
      "name_Lingerie de Peau BB Cream                               0.2093   0.3432  0.6096 0.5421 -0.4635  0.8820\n",
      "name_MOISTURE BOUND Tinted Treatment Moisturizer SPF 15      0.0282   0.4971  0.0567 0.9548 -0.9460  1.0024\n",
      "name_Make No Mistake Foundation & Concealer Stick           -0.2428   0.0862 -2.8161 0.0049 -0.4119 -0.0738\n",
      "name_Nothing Beats the Original™ Complexion Kit              0.0320   0.4302  0.0743 0.9407 -0.8112  0.8752\n",
      "name_Rōsilliance™ Organic BB+ Cream SPF 30                  -0.1789   0.2111 -0.8475 0.3967 -0.5927  0.2348\n",
      "name_Teint Idole Ultra Longwear Cushion Foundation SPF 50   -0.2121   0.2271 -0.9342 0.3502 -0.6571  0.2329\n",
      "name_Tenue de Perfection Long-lasting Liquid Foundation     -0.0236   0.7164 -0.0330 0.9737 -1.4277  1.3804\n",
      "name_Terracotta  Healthy Glow Liquid Foundation SPF 20       0.0518   0.8947  0.0579 0.9538 -1.7018  1.8054\n",
      "name_Tinted Moisturizer Broad Spectrum SPF 20                1.0010   0.1095  9.1387 0.0000  0.7863  1.2157\n",
      "name_Traceless Foundation Stick                              0.1027   0.2161  0.4754 0.6345 -0.3208  0.5262\n",
      "name_Your Skin But Better™ CC+™ Cream with SPF 50+           0.0360   0.0449  0.8015 0.4228 -0.0520  0.1239\n",
      "skin_tone_deep                                               0.7660   0.0337 22.7500 0.0000  0.7000  0.8319\n",
      "===========================================================================================================\n",
      "\n"
     ]
    }
   ],
   "source": [
    "logit_model=sm.Logit(y,X)\n",
    "result=logit_model.fit(method='bfgs')\n",
    "print(result.summary2())"
   ]
  },
  {
   "cell_type": "markdown",
   "metadata": {},
   "source": [
    "When we run the logistic regression model, we see that almost all of the p-values are well-above 0.05, which will be our threshold. This only further confirms that logistic regression is not a good framework for predicting recommendation with the data we have. However, we will still carry on, so we have something to compare our other results to. The columns we will keep are 'skin_tone_deep' and 'name_Tinted Moisturizer BroadSpectrum SPF 20'. "
   ]
  },
  {
   "cell_type": "code",
   "execution_count": 14,
   "metadata": {},
   "outputs": [
    {
     "name": "stdout",
     "output_type": "stream",
     "text": [
      "Optimization terminated successfully.\n",
      "         Current function value: 0.690035\n",
      "         Iterations 5\n",
      "                                      Results: Logit\n",
      "==========================================================================================\n",
      "Model:                      Logit                    Pseudo R-squared:         0.004      \n",
      "Dependent Variable:         y                        AIC:                      142788.7938\n",
      "Date:                       2018-12-09 11:38         BIC:                      142807.8878\n",
      "No. Observations:           103462                   Log-Likelihood:           -71392.    \n",
      "Df Model:                   1                        LL-Null:                  -71714.    \n",
      "Df Residuals:               103460                   LLR p-value:              4.5232e-142\n",
      "Converged:                  1.0000                   Scale:                    1.0000     \n",
      "No. Iterations:             5.0000                                                        \n",
      "------------------------------------------------------------------------------------------\n",
      "                                              Coef.  Std.Err.    z    P>|z|  [0.025 0.975]\n",
      "------------------------------------------------------------------------------------------\n",
      "skin_tone_deep                                0.7673   0.0337 22.7879 0.0000 0.7013 0.8333\n",
      "name_Tinted Moisturizer Broad Spectrum SPF 20 0.9210   0.1076  8.5606 0.0000 0.7101 1.1319\n",
      "==========================================================================================\n",
      "\n"
     ]
    }
   ],
   "source": [
    "new_cols = ['skin_tone_deep', 'name_Tinted Moisturizer Broad Spectrum SPF 20']\n",
    "\n",
    "X=os_data_X[new_cols]\n",
    "y=os_data_y['y']\n",
    "logit_model=sm.Logit(y,X)\n",
    "result=logit_model.fit()\n",
    "print(result.summary2())"
   ]
  },
  {
   "cell_type": "markdown",
   "metadata": {},
   "source": [
    "One more note about how poor the logistic regression model works is the $R^{2}$ value of 0.004. However, I can see that the $R^{2}$ was actually higher (0.005) when we had all of the variables after the RFE, so I am going to go back to that model."
   ]
  },
  {
   "cell_type": "markdown",
   "metadata": {},
   "source": [
    "#### Implimentation"
   ]
  },
  {
   "cell_type": "code",
   "execution_count": 15,
   "metadata": {},
   "outputs": [
    {
     "name": "stdout",
     "output_type": "stream",
     "text": [
      "Accuracy of logistic regression classifier on test set: 0.51143\n"
     ]
    }
   ],
   "source": [
    "X=os_data_X[cols]\n",
    "y=os_data_y['y']\n",
    "X_train, X_test, y_train, y_test = train_test_split(X, y, test_size=0.2, random_state=0)\n",
    "logreg = LogisticRegression()\n",
    "logreg.fit(X_train, y_train)\n",
    "\n",
    "y_pred = logreg.predict(X_test)\n",
    "print('Accuracy of logistic regression classifier on test set: {:.5f}'.format(logreg.score(X_test, y_test)))"
   ]
  },
  {
   "cell_type": "markdown",
   "metadata": {},
   "source": [
    "#### Results"
   ]
  },
  {
   "cell_type": "code",
   "execution_count": 16,
   "metadata": {},
   "outputs": [
    {
     "name": "stdout",
     "output_type": "stream",
     "text": [
      "              precision    recall  f1-score   support\n",
      "\n",
      "           0       0.51      0.94      0.66     10358\n",
      "           1       0.58      0.08      0.14     10335\n",
      "\n",
      "   micro avg       0.51      0.51      0.51     20693\n",
      "   macro avg       0.54      0.51      0.40     20693\n",
      "weighted avg       0.54      0.51      0.40     20693\n",
      "\n"
     ]
    }
   ],
   "source": [
    "print(classification_report(y_test, y_pred))"
   ]
  },
  {
   "cell_type": "markdown",
   "metadata": {},
   "source": [
    "##### Confusion Matrix"
   ]
  },
  {
   "cell_type": "code",
   "execution_count": 17,
   "metadata": {},
   "outputs": [
    {
     "data": {
      "text/plain": [
       "<matplotlib.axes._subplots.AxesSubplot at 0x1c1a214d68>"
      ]
     },
     "execution_count": 17,
     "metadata": {},
     "output_type": "execute_result"
    },
    {
     "data": {
      "image/png": "[encoded data removed]",
      "text/plain": [
       "<Figure size 288x288 with 2 Axes>"
      ]
     },
     "metadata": {},
     "output_type": "display_data"
    }
   ],
   "source": [
    "cm = confusion_matrix(y_test, y_pred)\n",
    "cm_df = pd.DataFrame(cm, index = range(2), columns = range(2))\n",
    "\n",
    "plt.figure(figsize=(4,4))\n",
    "plt.title('Confusion Matrix - Logistic Regression')\n",
    "sns.heatmap(cm_df, annot = True, linewidths = 0.5, cmap=\"YlGnBu\")"
   ]
  },
  {
   "cell_type": "markdown",
   "metadata": {},
   "source": [
    "The confusion matrix is telling us that we predicted 9732 + 851 recommendations correctly and 9484 + 626 recommendations incorrectly. "
   ]
  },
  {
   "cell_type": "code",
   "execution_count": 19,
   "metadata": {},
   "outputs": [
    {
     "data": {
      "image/png": "[encoded data removed]",
      "text/plain": [
       "<Figure size 432x288 with 1 Axes>"
      ]
     },
     "metadata": {},
     "output_type": "display_data"
    }
   ],
   "source": [
    "plt.rc(\"font\", size=14)\n",
    "sns.set(style=\"white\")\n",
    "sns.set(style=\"whitegrid\", color_codes=True)\n",
    "\n",
    "logit_roc_auc = roc_auc_score(y_test, logreg.predict(X_test))\n",
    "fpr, tpr, thresholds = roc_curve(y_test, logreg.predict_proba(X_test)[:,1])\n",
    "plt.figure()\n",
    "plt.plot(fpr, tpr, label='Logistic Regression (area = %0.2f)' % logit_roc_auc)\n",
    "plt.plot([0, 1], [0, 1],'r--')\n",
    "plt.xlim([0.0, 1.0])\n",
    "plt.ylim([0.0, 1.05])\n",
    "plt.xlabel('False Positive Rate')\n",
    "plt.ylabel('True Positive Rate')\n",
    "plt.title('Receiver operating characteristic')\n",
    "plt.legend(loc=\"lower right\")\n",
    "plt.show()"
   ]
  },
  {
   "cell_type": "code",
   "execution_count": 20,
   "metadata": {},
   "outputs": [
    {
     "name": "stdout",
     "output_type": "stream",
     "text": [
      "The area under the curve is: 0.512471007687721\n"
     ]
    }
   ],
   "source": [
    "print(\"The area under the curve is:\", roc_auc_score(y_test,logreg.predict_proba(X_test)[:,1]))"
   ]
  },
  {
   "cell_type": "markdown",
   "metadata": {},
   "source": [
    "Logistic regression for our data was not a good fit. Our ROC curve almost no better than a completely random classifier, so we will move on to our next algorithm to see if it works any better."
   ]
  },
  {
   "cell_type": "code",
   "execution_count": 38,
   "metadata": {},
   "outputs": [
    {
     "data": {
      "text/plain": [
       "list"
      ]
     },
     "execution_count": 38,
     "metadata": {},
     "output_type": "execute_result"
    }
   ],
   "source": [
    "type(coeffs)"
   ]
  },
  {
   "cell_type": "markdown",
   "metadata": {},
   "source": [
    "##### Feature Importance"
   ]
  },
  {
   "cell_type": "code",
   "execution_count": 44,
   "metadata": {},
   "outputs": [],
   "source": [
    "coeffs = logreg.coef_\n",
    "coeffs = coeffs.ravel().tolist()\n",
    "\n",
    "lr_feat_imp = pd.DataFrame({'feature':cols, 'coefficient': coeffs})"
   ]
  },
  {
   "cell_type": "code",
   "execution_count": 57,
   "metadata": {},
   "outputs": [
    {
     "data": {
      "image/png": "[encoded data removed]",
      "text/plain": [
       "<Figure size 640x480 with 1 Axes>"
      ]
     },
     "metadata": {},
     "output_type": "display_data"
    },
    {
     "data": {
      "text/plain": [
       "<ggplot: (-9223372029310949302)>"
      ]
     },
     "execution_count": 57,
     "metadata": {},
     "output_type": "execute_result"
    }
   ],
   "source": [
    "(p9.ggplot(lr_feat_imp, aes(x = 'feature', y = 'coefficient', fill = 'coefficient', color = 'coefficient')) + \n",
    " geom_point(stat = 'identity', size = 4) +\n",
    " geom_segment(aes(x = 'feature', xend = 'feature', y = 0, yend = 'coefficient'),\n",
    "              size = 0.4)+\n",
    " coord_flip() + \n",
    " ggtitle('Feature Importance Plot - Logistic Regression') +\n",
    " xlab('Coefficient in Logistic Regression') + \n",
    " ylab('Feature')+\n",
    " labs(color = 'Coefficient', fill = 'Coefficient'))"
   ]
  },
  {
   "cell_type": "markdown",
   "metadata": {},
   "source": [
    "As we can see, the most important features are products. One product that has a very negative pull on the logistic regression model is DayWear BB Anti-Oxidant Beauty Benefit Crème SPF 35. However, having a deep skin tone does have a somewhat positive pull on the likelihood of recommendation. It is worth nothing, however, that logistic regression did not work very well and so, we will be working with other models to see if they do a better job of predicting recommendation."
   ]
  },
  {
   "cell_type": "markdown",
   "metadata": {},
   "source": [
    "### k-Nearest Neighbors\n",
    "<a id = 'knn'></a>"
   ]
  },
  {
   "cell_type": "markdown",
   "metadata": {},
   "source": [
    "Since Logistic Regression sid not return very good success rates, we are going to try k-Nearest Neighbors for our last attempt of predicting recommendations. I have high hopes for this algorithm because it calculates distance between points, and I feel that calculating distance between points may be the best way to match a person's attributes to a product and get their recommendation response."
   ]
  },
  {
   "cell_type": "markdown",
   "metadata": {},
   "source": [
    "##### Choosing a k"
   ]
  },
  {
   "cell_type": "code",
   "execution_count": null,
   "metadata": {},
   "outputs": [],
   "source": [
    "neighbors = np.arange(1,250)\n",
    "train_accuracy =np.empty(len(neighbors))\n",
    "test_accuracy = np.empty(len(neighbors))\n",
    "\n",
    "for i,k in enumerate(neighbors):\n",
    "    # knn classifier with k neighbors\n",
    "    knn = KNeighborsClassifier(n_neighbors=k)\n",
    "    \n",
    "    # Fit the model\n",
    "    knn.fit(X_train, y_train)\n",
    "    \n",
    "    # Compute accuracy on the training set\n",
    "    train_accuracy[i] = knn.score(X_train, y_train)\n",
    "    \n",
    "    # Compute accuracy on the test set\n",
    "    test_accuracy[i] = knn.score(X_test, y_test)\n",
    "\n",
    "# Generate plot\n",
    "plt.title('k-NN Varying number of neighbors')\n",
    "plt.plot(neighbors, test_accuracy, label='Testing Accuracy')\n",
    "plt.plot(neighbors, train_accuracy, label='Training accuracy')\n",
    "plt.legend()\n",
    "plt.xlabel('Number of neighbors')\n",
    "plt.ylabel('Accuracy')\n",
    "plt.show()"
   ]
  },
  {
   "cell_type": "markdown",
   "metadata": {},
   "source": [
    "In k-Nearest Neighbors, we do get the option of choosing a k, which is how many neighbors we should consider for predicting the recommendation of our test case. We attempted using cross validation to find the optimal k for our KNN where k could be any value from 1 to 250. Unfortunately, the code could not finish running, even after we left it overnight. Once again, I think we could do this if we had more computing power. Perhaps parallel computing would be useful here."
   ]
  },
  {
   "cell_type": "markdown",
   "metadata": {},
   "source": [
    "#### Implementation"
   ]
  },
  {
   "cell_type": "code",
   "execution_count": 118,
   "metadata": {},
   "outputs": [
    {
     "name": "stdout",
     "output_type": "stream",
     "text": [
      "Accuracy of kNN with 3 nearest neighbors:0.652368131195692\n"
     ]
    }
   ],
   "source": [
    "#get X and y and perform SMOTE over-sampling for no recommendation data\n",
    "X = df.loc[:, df.columns != 'recommended']\n",
    "y = df.loc[:, df.columns == 'recommended']\n",
    "\n",
    "X_train, X_test, y_train, y_test = train_test_split(X, y, test_size=0.2, random_state=0)\n",
    "columns = X_train.columns\n",
    "os_data_X,os_data_y=os.fit_sample(X_train, y_train)\n",
    "os_data_X = pd.DataFrame(data=os_data_X,columns=columns )\n",
    "os_data_y= pd.DataFrame(data=os_data_y,columns=['y'])\n",
    "\n",
    "X_train = os_data_X\n",
    "y_train = os_data_y['y']\n",
    "\n",
    "knn = KNeighborsClassifier(n_neighbors=3)\n",
    "knn.fit(X_train,y_train)\n",
    "print('Accuracy of kNN with 3 nearest neighbors:' + str(knn.score(X_test,y_test)))"
   ]
  },
  {
   "cell_type": "markdown",
   "metadata": {},
   "source": [
    "Even though our code before to iterate over 250 values of k did not work, we were able to test different values of k at 1, 3, 5, 50, and 100 to see which ones produced the highest accuracy scores. At k = 3, the accuracy score was the highest at 65.2368131195692%."
   ]
  },
  {
   "cell_type": "markdown",
   "metadata": {},
   "source": [
    "#### Results"
   ]
  },
  {
   "cell_type": "code",
   "execution_count": 59,
   "metadata": {},
   "outputs": [
    {
     "name": "stdout",
     "output_type": "stream",
     "text": [
      "              precision    recall  f1-score   support\n",
      "\n",
      "           0       0.27      0.37      0.31      3441\n",
      "           1       0.81      0.73      0.77     12901\n",
      "\n",
      "   micro avg       0.65      0.65      0.65     16342\n",
      "   macro avg       0.54      0.55      0.54     16342\n",
      "weighted avg       0.70      0.65      0.67     16342\n",
      "\n"
     ]
    }
   ],
   "source": [
    "y_pred = knn.predict(X_test)\n",
    "print(classification_report(y_test, y_pred))"
   ]
  },
  {
   "cell_type": "markdown",
   "metadata": {},
   "source": [
    "We can see that our kNN model works much better than our logistic regression model, but unfortunately, it is very inprecise with predicting a person not recommending a product. However, I would point out that if Sephora gave me a list of recommendations and over 60% of them were products I would like, that would not be the worst success rate. We can still always improve it, so we are going to try one more machine learning algorithm."
   ]
  },
  {
   "cell_type": "markdown",
   "metadata": {},
   "source": [
    "##### Confusion Matrix"
   ]
  },
  {
   "cell_type": "code",
   "execution_count": 60,
   "metadata": {},
   "outputs": [
    {
     "data": {
      "text/plain": [
       "<matplotlib.axes._subplots.AxesSubplot at 0x1c1a214748>"
      ]
     },
     "execution_count": 60,
     "metadata": {},
     "output_type": "execute_result"
    },
    {
     "data": {
      "image/png": "[encoded data removed]",
      "text/plain": [
       "<Figure size 288x288 with 2 Axes>"
      ]
     },
     "metadata": {},
     "output_type": "display_data"
    }
   ],
   "source": [
    "cm = confusion_matrix(y_test, y_pred)\n",
    "cm_df = pd.DataFrame(cm, index = range(2), columns = range(2))\n",
    "\n",
    "plt.figure(figsize=(4,4))\n",
    "plt.title('Confusion Matrix - kNN with k = 3')\n",
    "sns.heatmap(cm_df, annot = True, linewidths = 0.5, cmap=\"YlGnBu\")"
   ]
  },
  {
   "cell_type": "markdown",
   "metadata": {},
   "source": [
    "This confusion matrix shows that, using kNN, the number of times our model predicted correctly is equal to 1275 + 9386, and the number of times our model predicted incorrectly is 3515 + 2166."
   ]
  },
  {
   "cell_type": "markdown",
   "metadata": {},
   "source": [
    "##### ROC Curve"
   ]
  },
  {
   "cell_type": "code",
   "execution_count": 63,
   "metadata": {},
   "outputs": [
    {
     "data": {
      "image/png": "[encoded data removed]",
      "text/plain": [
       "<Figure size 432x288 with 1 Axes>"
      ]
     },
     "metadata": {},
     "output_type": "display_data"
    }
   ],
   "source": [
    "plt.rc(\"font\", size=14)\n",
    "sns.set(style=\"white\")\n",
    "sns.set(style=\"whitegrid\", color_codes=True)\n",
    "\n",
    "#area under curve\n",
    "knn_roc_auc = roc_auc_score(y_test, knn.predict(X_test))\n",
    "fpr, tpr, thresholds = roc_curve(y_test, knn.predict_proba(X_test)[:,1])\n",
    "plt.figure()\n",
    "plt.plot(fpr, tpr, label='kNN (area = %0.2f)' % knn_roc_auc)\n",
    "plt.plot([0, 1], [0, 1],'r--')\n",
    "plt.xlim([0.0, 1.0])\n",
    "plt.ylim([0.0, 1.05])\n",
    "plt.xlabel('False Positive Rate')\n",
    "plt.ylabel('True Positive Rate')\n",
    "plt.title('Receiver operating characteristic')\n",
    "plt.legend(loc=\"lower right\")\n",
    "plt.show()"
   ]
  },
  {
   "cell_type": "code",
   "execution_count": 64,
   "metadata": {},
   "outputs": [
    {
     "name": "stdout",
     "output_type": "stream",
     "text": [
      "The area under the curve is: 0.5490361614405512\n"
     ]
    }
   ],
   "source": [
    "print(\"The area under the curve is:\", knn_roc_auc)"
   ]
  },
  {
   "cell_type": "markdown",
   "metadata": {},
   "source": [
    "While kNN is not anywhere near perfect, it is far superior to logistic regression. It does have an issue of saying people will recommend a product when they actually would not, but even so, if Sephora can get 65% of their recommendations correct for people, that is quite a bit of added revenue.\n",
    "\n",
    "I would also like to add that if we had more time (and I do plan on coming back to this after the project is due), I am sure that there are more sophisticated machine learning models that could do a better job of predicting recommendation. "
   ]
  },
  {
   "cell_type": "markdown",
   "metadata": {},
   "source": [
    "##### Feature Importance "
   ]
  },
  {
   "cell_type": "code",
   "execution_count": 119,
   "metadata": {},
   "outputs": [],
   "source": [
    "#names of features\n",
    "nfeats = list(df.columns)\n",
    "#get rid of recommendation as a feature\n",
    "pop = nfeats.pop(1)\n",
    "\n",
    "#add mean score through iteration\n",
    "score = []\n",
    "\n",
    "#get the accuracy of the kNN while dropping each feature\n",
    "#the less accurate it becomes, the worse the model is\n",
    "for i in range(len(nfeats)):\n",
    "    X = X_test.drop(X_test.columns[[i]], axis=1) \n",
    "    scores = cross_val_score(knn, X, y_test)\n",
    "    score.append(scores.mean()) "
   ]
  },
  {
   "cell_type": "code",
   "execution_count": 126,
   "metadata": {},
   "outputs": [
    {
     "data": {
      "image/png": "[encoded data removed]",
      "text/plain": [
       "<Figure size 1100x800 with 1 Axes>"
      ]
     },
     "metadata": {},
     "output_type": "display_data"
    },
    {
     "data": {
      "text/plain": [
       "<ggplot: (7534277212)>"
      ]
     },
     "execution_count": 126,
     "metadata": {},
     "output_type": "execute_result"
    }
   ],
   "source": [
    "knn_score_df = pd.DataFrame({'features': nfeats, 'accuracy': score})\n",
    "knn_score_df = knn_score_df.sort_values(by = ['accuracy'])\n",
    "knn_score_df = knn_score_df.head(5)\n",
    "\n",
    "#plot\n",
    "(p9.ggplot(knn_score_df, aes(x = 'features', y = 'accuracy', fill = 'accuracy')) + \n",
    " geom_bar(stat = 'identity') + \n",
    " coord_flip() +\n",
    " ggtitle('Cross Validation Score When Dropping Feature') + \n",
    " xlab('Feature Being Dropped') + \n",
    " ylab('Accuracy') + \n",
    " theme(figure_size = (11,8)))"
   ]
  },
  {
   "cell_type": "markdown",
   "metadata": {},
   "source": [
    "For this feature importance plot interpretation, we need to look at it a little differently than the way we looked at our feature importance plot for Logistic Regression. This is because feature importance for logistic regression was calculated by the coefficients to see how each coefficient affected the overall regression.\n",
    "\n",
    "Here, we are doing something different. We iterated over every single feature we have in our model and saw how much the cross validation score changed for every change. Then, we took the lowest values because the lower the cross validation score was, the more important that feature was to the model. Then, we plotted the five features with the lowest cross validation scores when their feature was dropped from the model. What we see is that price and having a porcelain skin tone actually doe have a more significant impact than some of the other variables. However, most of the variables in the data have a similar level of importance, which can be seen in the data frame. \n",
    "\n",
    "What I do like about kNN is that we see some of our features pertaining to characteristics matter, but I believe that we still need to do more testing to be certain."
   ]
  },
  {
   "cell_type": "markdown",
   "metadata": {},
   "source": [
    "### Support Vector Machine (SVM)\n",
    "<a id = 'svm'></a>"
   ]
  },
  {
   "cell_type": "markdown",
   "metadata": {},
   "source": [
    "#### Changing our Data"
   ]
  },
  {
   "cell_type": "markdown",
   "metadata": {},
   "source": [
    "In order to do SVM, we are going to make some changes. Because our data is so large, we wanted to reduce the size of it by using a one hot encoder for age. This is because we would have to drop the rows without age values in order to do this, and thus, our dataset would become significantly smaller, so the SVM would not take as long to run. Whether or not this a completely valid action to take is not certain, but we still wanted to try this very popular classification algorithm to see if there was something better than 65% accuracy."
   ]
  },
  {
   "cell_type": "code",
   "execution_count": 170,
   "metadata": {},
   "outputs": [],
   "source": [
    "#read in data frame\n",
    "df = pd.read_csv('/Users/sangeetharamamurthy/Desktop/SephoraFoundationAnalysis/Datasets/sephora_reviews_final.csv')\n",
    "\n",
    "df = df[['brand','name','skin_type', 'skin_concerns',\n",
    "        'skin_tone', 'age', 'price', 'recommended']]\n",
    "\n",
    "\n",
    "df = df[~df['recommended'].isna()]\n",
    "\n",
    "#0: Not recommended\n",
    "#1: Recommended\n",
    "df['recommended'] = [1 if i  == True else 0 for i in df['recommended']]\n",
    "\n",
    "#one hot encoding for age:\n",
    "df[\"age\"][df[\"age\"]==\"13to17\"]=15\n",
    "df[\"age\"][df[\"age\"]==\"18to24\"]=21\n",
    "df[\"age\"][df[\"age\"]==\"25to34\"]=30\n",
    "df[\"age\"][df[\"age\"]==\"35to44\"]=40\n",
    "df[\"age\"][df[\"age\"]==\"45to54\"]=50\n",
    "df[\"age\"][df[\"age\"]==\"over54\"]=60\n",
    "\n",
    "#remove all rows ith age as nan\n",
    "df = df[~df['age'].isna()]"
   ]
  },
  {
   "cell_type": "code",
   "execution_count": 171,
   "metadata": {},
   "outputs": [],
   "source": [
    "#get dummies for categorical variables\n",
    "df = pd.get_dummies(df, columns=['brand','name','skin_type', 'skin_tone', 'skin_concerns'], \n",
    "                    prefix=['brand','name','skin_type', 'skin_tone','skin_concerns'])"
   ]
  },
  {
   "cell_type": "code",
   "execution_count": 172,
   "metadata": {},
   "outputs": [
    {
     "name": "stdout",
     "output_type": "stream",
     "text": [
      "Length of oversampled data is  10474\n",
      "Number of no recommendation in oversampled data 5237\n",
      "Number of recommendation 5237\n",
      "Proportion of no recommendation data in oversampled data is  0.5\n",
      "Proportion of recommendation data in oversampled data is  0.5\n"
     ]
    }
   ],
   "source": [
    "#oversampling training data using SMOTE\n",
    "#code from: https://towardsdatascience.com/building-a-logistic-regression-in-python-step-by-step-becd4d56c9c8\n",
    "X = df.loc[:, df.columns != 'recommended']\n",
    "y = df.loc[:, df.columns == 'recommended']\n",
    "\n",
    "os = SMOTE(random_state=0)\n",
    "X_train, X_test, y_train, y_test = train_test_split(X, y, test_size=0.2, random_state=0)\n",
    "columns = X_train.columns\n",
    "os_data_X,os_data_y=os.fit_sample(X_train, y_train)\n",
    "os_data_X = pd.DataFrame(data=os_data_X,columns=columns )\n",
    "os_data_y= pd.DataFrame(data=os_data_y,columns=['y'])\n",
    "\n",
    "#Check the numbers of our data\n",
    "print(\"Length of oversampled data is \",len(os_data_X))\n",
    "print(\"Number of no recommendation in oversampled data\",len(os_data_y[os_data_y['y']==0]))\n",
    "print(\"Number of recommendation\",len(os_data_y[os_data_y['y']==1]))\n",
    "print(\"Proportion of no recommendation data in oversampled data is \",len(os_data_y[os_data_y['y']==0])/len(os_data_X))\n",
    "print(\"Proportion of recommendation data in oversampled data is \",len(os_data_y[os_data_y['y']==1])/len(os_data_X))"
   ]
  },
  {
   "cell_type": "markdown",
   "metadata": {},
   "source": [
    "#### Implimentation"
   ]
  },
  {
   "cell_type": "markdown",
   "metadata": {},
   "source": [
    "#### Results"
   ]
  },
  {
   "cell_type": "code",
   "execution_count": 173,
   "metadata": {},
   "outputs": [
    {
     "name": "stdout",
     "output_type": "stream",
     "text": [
      "Accuracy of SVM:0.7594562647754137\n"
     ]
    }
   ],
   "source": [
    "svc = svm.SVC(kernel='linear')\n",
    "svc.fit(X_train,y_train)\n",
    "y_pred = svc.predict(X_test)\n",
    "\n",
    "print('Accuracy of SVM:' + str(svc.score(X_test,y_test)))"
   ]
  },
  {
   "cell_type": "code",
   "execution_count": 174,
   "metadata": {},
   "outputs": [
    {
     "name": "stdout",
     "output_type": "stream",
     "text": [
      "              precision    recall  f1-score   support\n",
      "\n",
      "           0       0.20      0.00      0.01       401\n",
      "           1       0.76      0.99      0.86      1291\n",
      "\n",
      "   micro avg       0.76      0.76      0.76      1692\n",
      "   macro avg       0.48      0.50      0.44      1692\n",
      "weighted avg       0.63      0.76      0.66      1692\n",
      "\n"
     ]
    }
   ],
   "source": [
    "print(classification_report(y_test, y_pred))"
   ]
  },
  {
   "cell_type": "markdown",
   "metadata": {},
   "source": [
    "Linear SVM seems to be the most accurate out of the three. This is because it has an accuracy of 75.94562647754137%, which is higher than the other two. It is important to note, however, that we did have to drop a lot of the data that we were using before. We cut the total data we were using for this model (training + test) from 80,000 rows to 8,460 rows, and that is very significant. Once again, the reason we had to do this was because SVM takes too long to run, and we also wanted to see if using one-hot-encoding hat any effect on what age did. "
   ]
  },
  {
   "cell_type": "markdown",
   "metadata": {},
   "source": [
    "##### Confusion Matrix"
   ]
  },
  {
   "cell_type": "code",
   "execution_count": 175,
   "metadata": {},
   "outputs": [
    {
     "data": {
      "text/plain": [
       "Text(16,0.5,'Actual Recommendation')"
      ]
     },
     "execution_count": 175,
     "metadata": {},
     "output_type": "execute_result"
    },
    {
     "data": {
      "image/png": "[encoded data removed]",
      "text/plain": [
       "<Figure size 288x288 with 2 Axes>"
      ]
     },
     "metadata": {},
     "output_type": "display_data"
    }
   ],
   "source": [
    "cm = confusion_matrix(y_test, y_pred)\n",
    "cm_df = pd.DataFrame(cm, index = range(2), columns = range(2))\n",
    "\n",
    "plt.figure(figsize=(4,4))\n",
    "plt.title('Confusion Matrix - SVM')\n",
    "sns.heatmap(cm_df, annot = True, linewidths = 0.5, cmap=\"YlGnBu\") \n",
    "plt.xlabel('Predicted Recommendation')\n",
    "plt.ylabel('Actual Recommendation')"
   ]
  },
  {
   "cell_type": "markdown",
   "metadata": {},
   "source": [
    "The number of correct predictions is 2 + 1283 and the number of incorrect predictions is 8 + 399. Our model is, generally, over-predicting one's and under-predicting zeros."
   ]
  },
  {
   "cell_type": "markdown",
   "metadata": {},
   "source": [
    "##### ROC Curve"
   ]
  },
  {
   "cell_type": "code",
   "execution_count": null,
   "metadata": {},
   "outputs": [],
   "source": [
    "plt.rc(\"font\", size=14)\n",
    "sns.set(style=\"white\")\n",
    "sns.set(style=\"whitegrid\", color_codes=True)\n",
    "\n",
    "#area under curve\n",
    "svc_roc_auc = roc_auc_score(y_test, svc.predict(X_test))\n",
    "svc.probability = True\n",
    "fpr, tpr, thresholds = roc_curve(y_test, svc.predict_proba(X_test)[:,1])\n",
    "plt.figure()\n",
    "plt.plot(fpr, tpr, label='kNN (area = %0.2f)' % svc_roc_auc)\n",
    "plt.plot([0, 1], [0, 1],'r--')\n",
    "plt.xlim([0.0, 1.0])\n",
    "plt.ylim([0.0, 1.05])\n",
    "plt.xlabel('False Positive Rate')\n",
    "plt.ylabel('True Positive Rate')\n",
    "plt.title('Receiver operating characteristic')\n",
    "plt.legend(loc=\"lower right\")\n",
    "plt.show()"
   ]
  },
  {
   "cell_type": "markdown",
   "metadata": {},
   "source": [
    "Unfortunately, we could not plot the ROC curve for SVM due to some difficulties with the 'svc.probability' and 'svc.predict_proba(X_test)' lines, which returned an error about probabilit being false. However, we were able to get the area under the ROC curve."
   ]
  },
  {
   "cell_type": "code",
   "execution_count": 183,
   "metadata": {},
   "outputs": [
    {
     "name": "stdout",
     "output_type": "stream",
     "text": [
      "The area under the SVM ROC Curve is:  0.49939539223204577\n"
     ]
    }
   ],
   "source": [
    "print(\"The area under the SVM ROC Curve is: \", roc_auc_score(y_test, svc.predict(X_test)))"
   ]
  },
  {
   "cell_type": "markdown",
   "metadata": {},
   "source": [
    "Even though the accuracy rate was higher for SVM, the area under the ROC curve is less than 0.5, which does not make much sense. We think that there may be major issues with fitting the SVM algorithm to our data, which we unfortunately do not have more time to explore. Thus, we are going to stick with our kNN model as the best one for now, until we can go back and try additional models."
   ]
  },
  {
   "cell_type": "markdown",
   "metadata": {},
   "source": [
    "## Conclusion(s):\n",
    "<a id = 'conclusion'></a>\n",
    "\n",
    "kNN is the better algorithm to predict whether or not someone will recommend a product. Thus, if Sephora wants to recommend the best products to people based on their characteristics, it would be wise to use kNN to find items a person is likely to recommend based on the information they gave Sephora when they created my account. If a person is likely to recommend an item, then they will also be likely to like it and thus, Sephora can feel confident in recommending that item to them.\n",
    "\n",
    "SVM did have a higher success rate, but we used far less data with it, and we also saw that there were some major issues with calculating the area under the roc curve. Thus, we are going to table SVM right now.\n",
    "\n",
    "While a 65% success rate is not optimal, it is still a decent amount to work with because if Sephora were to recommend ten products to a customer and 6 out of those 10 products were actually products the customer would like, then that would still give Sephora a good chance of getting a purchase out of that person. That being said, I do believe we can increase the success rate of this recommendation predictor in the future with more advanced and sophisticated machine learning algorithms.\n",
    "\n",
    "It is also possible that some of these features do not have as large of an impact on recommendation and rating as we initially suspected. We would have to do more testing to see if that's the case, but if it is, then it means that no machine learning algorithm will successfully predict what we want."
   ]
  }
 ],
 "metadata": {
  "kernelspec": {
   "display_name": "Python 3",
   "language": "python",
   "name": "python3"
  },
  "language_info": {
   "codemirror_mode": {
    "name": "ipython",
    "version": 3
   },
   "file_extension": ".py",
   "mimetype": "text/x-python",
   "name": "python",
   "nbconvert_exporter": "python",
   "pygments_lexer": "ipython3",
   "version": "3.6.5"
  }
 },
 "nbformat": 4,
 "nbformat_minor": 2
}
