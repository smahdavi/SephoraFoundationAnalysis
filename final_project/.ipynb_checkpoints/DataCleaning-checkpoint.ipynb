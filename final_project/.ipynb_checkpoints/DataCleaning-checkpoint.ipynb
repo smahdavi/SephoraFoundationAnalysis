{
 "cells": [
  {
   "cell_type": "markdown",
   "metadata": {},
   "source": [
    "# Data Cleaning"
   ]
  },
  {
   "cell_type": "markdown",
   "metadata": {},
   "source": [
    "### Import Packages"
   ]
  },
  {
   "cell_type": "code",
   "execution_count": 7,
   "metadata": {},
   "outputs": [],
   "source": [
    "import pandas as pd\n",
    "import numpy as np\n",
    "import os \n",
    "import warnings\n",
    "import datetime"
   ]
  },
  {
   "cell_type": "markdown",
   "metadata": {},
   "source": [
    "### Reading in Scraped Data"
   ]
  },
  {
   "cell_type": "code",
   "execution_count": 8,
   "metadata": {},
   "outputs": [],
   "source": [
    "warnings.filterwarnings(\"ignore\")\n",
    "\n",
    "#set working directory\n",
    "os.chdir('/Users/sangeetharamamurthy/Desktop/SephoraFoundationAnalysis/Datasets')\n",
    "#read in review data\n",
    "review_db = pd.read_csv('sephora_review_db.csv')\n",
    "\n",
    "#remove products we don't want (products that are not foundations)\n",
    "bad_names = ['Capture Dreamskin Fresh & Perfect Cushion Broad Spectrum SPF 50 Refill', \n",
    "             'Double Wear Stay-In-Place Foundation Pump',\n",
    "             'Chromatic Mix – Oil Base',\n",
    "             'Teint Idole Ultra Longwear Cushion Foundation SPF 50 Refill',\n",
    "             'Chromatic Mix – Water Base',\n",
    "             'Liquid Foundation Pump']\n",
    "\n",
    "df = review_db[~(review_db['name'].isin(bad_names))]"
   ]
  },
  {
   "cell_type": "markdown",
   "metadata": {},
   "source": [
    "We got rid of the bad names, which are products that Sephora categorizes in the foundation category but are not foundations. Examples include chromatic mix, foundation pumps, and foundation refills."
   ]
  },
  {
   "cell_type": "markdown",
   "metadata": {},
   "source": [
    "### Formatting Product Description to Columns "
   ]
  },
  {
   "cell_type": "code",
   "execution_count": 9,
   "metadata": {},
   "outputs": [],
   "source": [
    "#Add Product Info Given by Sephora\n",
    "\n",
    "#coverage\n",
    "df['coverage'] = [i.split('Coverage:', 1)[1].split(' ')[1] if 'Coverage:' in i else '' for i in df['description']]\n",
    "df['coverage'] = [i.split('Skin')[0].split('Finish')[0] for i in df['coverage']]\n",
    "df['coverage'] = [i if i in (['Medium', 'Light', 'Full']) else float('Nan') for i in df['coverage']]\n",
    "\n",
    "#finish\n",
    "df['finish'] = [i.split('Finish:', 1)[1].split(' ')[1].split('✔')[0].split('SPF')[0].split('What')[0].split('Formulation')[0] if 'Finish:' in i else '' for i in df['description']]\n",
    "df['finish'] = [i if i in ['Matte', 'Natural', 'Radiant'] else float('Nan') for i in df['finish']]\n",
    "\n",
    "#formulation\n",
    "df['formulation'] = [i.split('Formulation:')[1].split(' ')[1] if 'Formulation:' in i else float('Nan') for i in df['description']]\n",
    "\n",
    "x = [i if 'Skin Type:' in i else ''  for i in df['description']]\n",
    "\n",
    "df['normal_skin'] = [True if 'Normal' in i else False for i in x]\n",
    "df['oily_skin'] = [True if 'Oily' in i else False for i in x]\n",
    "df['combo_skin'] = [True if 'Combination' in i else False for i in x]\n",
    "df['dry_skin'] = [True if 'Dry' in i else False for i in x]\n",
    "\n",
    "#SPF\n",
    "df['SPF'] = ['SPF' in i for i in df['name']]"
   ]
  },
  {
   "cell_type": "markdown",
   "metadata": {},
   "source": [
    "In order to do this, we extracted the important information we wanted from the description column including foundation coverage type, foundation coverage finish, foundation forumlation, and SPF. "
   ]
  },
  {
   "cell_type": "markdown",
   "metadata": {},
   "source": [
    "### Changing Column Types"
   ]
  },
  {
   "cell_type": "code",
   "execution_count": 10,
   "metadata": {},
   "outputs": [],
   "source": [
    "#Fix column types\n",
    "\n",
    "#Change price formatting to float and get rid of price ranges and dollar signs\n",
    "df['price'] = df['price'].astype(str)\n",
    "df['price'] = [i[-6:] for i in df['price']]\n",
    "df['price'] = [float(i.replace(\"$\", \"\")) for i in df['price']]\n",
    "#df = df[~df['price'].isna()]\n",
    "\n",
    "#Change submission time data to datetime\n",
    "df['first_submission_date'] = [datetime.datetime.strptime(i[:19], '%Y-%m-%dT%H:%M:%S') for i in df['first_submission_date']]\n",
    "df['last_submission_date'] = [datetime.datetime.strptime(i[:19], '%Y-%m-%dT%H:%M:%S') for i in df['last_submission_date']]"
   ]
  },
  {
   "cell_type": "markdown",
   "metadata": {},
   "source": [
    "The only column we had to change was price, which had to be reformatted to remove price ranges and dollar signs and then convert the type to float. "
   ]
  },
  {
   "cell_type": "markdown",
   "metadata": {},
   "source": [
    "### Final Data Frame to Analyze"
   ]
  },
  {
   "cell_type": "code",
   "execution_count": 11,
   "metadata": {},
   "outputs": [],
   "source": [
    "df_export = df[['brand', 'name', 'product_id', 'coverage', 'finish', 'formulation', 'normal_skin', 'oily_skin', \n",
    "                'combo_skin', 'dry_skin', 'SPF','user_name','rating', 'recommended','skin_type', 'eye_color',\n",
    "                'skin_tone','skin_concerns', 'age', 'beauty_insider','price', 'first_submission_date', \n",
    "                'last_submission_date', 'location','incentivized_review', 'review_text', 'brand_image_url', \n",
    "                'product_image_url']]\n",
    "\n",
    "df_export.to_csv('/Users/sangeetharamamurthy/Desktop/SephoraFoundationAnalysis/Datasets/sephora_reviews_final.csv', index = False)"
   ]
  },
  {
   "cell_type": "markdown",
   "metadata": {},
   "source": [
    "We have now exported our data frame to include the information that we hope to analyze in the format we would like to analyze it in. Hopefully, this reduces the amount of time we will need to clean data in our analysis."
   ]
  }
 ],
 "metadata": {
  "kernelspec": {
   "display_name": "Python 3",
   "language": "python",
   "name": "python3"
  },
  "language_info": {
   "codemirror_mode": {
    "name": "ipython",
    "version": 3
   },
   "file_extension": ".py",
   "mimetype": "text/x-python",
   "name": "python",
   "nbconvert_exporter": "python",
   "pygments_lexer": "ipython3",
   "version": "3.6.5"
  }
 },
 "nbformat": 4,
 "nbformat_minor": 2
}
