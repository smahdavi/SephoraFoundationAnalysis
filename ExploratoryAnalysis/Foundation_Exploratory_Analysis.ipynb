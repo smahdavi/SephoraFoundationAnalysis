{
 "cells": [
  {
   "cell_type": "code",
   "execution_count": 1,
   "metadata": {},
   "outputs": [],
   "source": [
    "import numpy as np\n",
    "import pandas as pd\n",
    "from collections import Counter"
   ]
  },
  {
   "cell_type": "code",
   "execution_count": 2,
   "metadata": {},
   "outputs": [],
   "source": [
    "foundation_db = pd.read_csv(\"sephora_review_db.csv\")"
   ]
  },
  {
   "cell_type": "code",
   "execution_count": 5,
   "metadata": {},
   "outputs": [
    {
     "ename": "SyntaxError",
     "evalue": "invalid syntax (<ipython-input-5-594451724f0c>, line 8)",
     "output_type": "error",
     "traceback": [
      "\u001b[0;36m  File \u001b[0;32m\"<ipython-input-5-594451724f0c>\"\u001b[0;36m, line \u001b[0;32m8\u001b[0m\n\u001b[0;31m    df = foundation_db[!(foundation_db['name'] in bad_names)]\u001b[0m\n\u001b[0m                       ^\u001b[0m\n\u001b[0;31mSyntaxError\u001b[0m\u001b[0;31m:\u001b[0m invalid syntax\n"
     ]
    }
   ],
   "source": [
    "#remove products we don't want\n",
    "bad_names = ['Capture Dreamskin Fresh & Perfect Cushion Broad Spectrum SPF 50 Refill', \n",
    "             'Double Wear Stay-In-Place Foundation Pump',\n",
    "             'Chromatic Mix – Oil Base',\n",
    "             'Teint Idole Ultra Longwear Cushion Foundation SPF 50 Refill',\n",
    "             'Chromatic Mix – Water Base']\n",
    "\n",
    "df = foundation_db[(foundation_db['name'] in bad_names)]"
   ]
  },
  {
   "cell_type": "code",
   "execution_count": 6,
   "metadata": {},
   "outputs": [
    {
     "data": {
      "text/html": [
       "<div>\n",
       "<style scoped>\n",
       "    .dataframe tbody tr th:only-of-type {\n",
       "        vertical-align: middle;\n",
       "    }\n",
       "\n",
       "    .dataframe tbody tr th {\n",
       "        vertical-align: top;\n",
       "    }\n",
       "\n",
       "    .dataframe thead th {\n",
       "        text-align: right;\n",
       "    }\n",
       "</style>\n",
       "<table border=\"1\" class=\"dataframe\">\n",
       "  <thead>\n",
       "    <tr style=\"text-align: right;\">\n",
       "      <th></th>\n",
       "      <th>brand</th>\n",
       "      <th>name</th>\n",
       "      <th>rating</th>\n",
       "      <th>skin_type</th>\n",
       "      <th>eye_color</th>\n",
       "      <th>skin_concerns</th>\n",
       "      <th>incentivized_review</th>\n",
       "      <th>skin_tone</th>\n",
       "      <th>age</th>\n",
       "      <th>beauty_insider</th>\n",
       "      <th>user_name</th>\n",
       "      <th>price</th>\n",
       "    </tr>\n",
       "  </thead>\n",
       "  <tbody>\n",
       "    <tr>\n",
       "      <th>0</th>\n",
       "      <td>Bobbi Brown</td>\n",
       "      <td>Skin Foundation Stick</td>\n",
       "      <td>5</td>\n",
       "      <td>NaN</td>\n",
       "      <td>NaN</td>\n",
       "      <td>NaN</td>\n",
       "      <td>False</td>\n",
       "      <td>NaN</td>\n",
       "      <td>NaN</td>\n",
       "      <td>NaN</td>\n",
       "      <td>ninicat</td>\n",
       "      <td>$46.00</td>\n",
       "    </tr>\n",
       "    <tr>\n",
       "      <th>1</th>\n",
       "      <td>Bobbi Brown</td>\n",
       "      <td>Skin Foundation Stick</td>\n",
       "      <td>5</td>\n",
       "      <td>oily</td>\n",
       "      <td>brown</td>\n",
       "      <td>NaN</td>\n",
       "      <td>False</td>\n",
       "      <td>fair</td>\n",
       "      <td>25to34</td>\n",
       "      <td>yesvib</td>\n",
       "      <td>Loverme</td>\n",
       "      <td>$46.00</td>\n",
       "    </tr>\n",
       "    <tr>\n",
       "      <th>2</th>\n",
       "      <td>Bobbi Brown</td>\n",
       "      <td>Skin Foundation Stick</td>\n",
       "      <td>4</td>\n",
       "      <td>normal</td>\n",
       "      <td>brown</td>\n",
       "      <td>NaN</td>\n",
       "      <td>NaN</td>\n",
       "      <td>light</td>\n",
       "      <td>25to34</td>\n",
       "      <td>yes</td>\n",
       "      <td>J828</td>\n",
       "      <td>$46.00</td>\n",
       "    </tr>\n",
       "    <tr>\n",
       "      <th>3</th>\n",
       "      <td>Bobbi Brown</td>\n",
       "      <td>Skin Foundation Stick</td>\n",
       "      <td>5</td>\n",
       "      <td>NaN</td>\n",
       "      <td>NaN</td>\n",
       "      <td>NaN</td>\n",
       "      <td>NaN</td>\n",
       "      <td>NaN</td>\n",
       "      <td>NaN</td>\n",
       "      <td>NaN</td>\n",
       "      <td>juicygirl25</td>\n",
       "      <td>$46.00</td>\n",
       "    </tr>\n",
       "    <tr>\n",
       "      <th>4</th>\n",
       "      <td>Bobbi Brown</td>\n",
       "      <td>Skin Foundation Stick</td>\n",
       "      <td>4</td>\n",
       "      <td>NaN</td>\n",
       "      <td>NaN</td>\n",
       "      <td>NaN</td>\n",
       "      <td>NaN</td>\n",
       "      <td>NaN</td>\n",
       "      <td>NaN</td>\n",
       "      <td>NaN</td>\n",
       "      <td>Lenahj</td>\n",
       "      <td>$46.00</td>\n",
       "    </tr>\n",
       "  </tbody>\n",
       "</table>\n",
       "</div>"
      ],
      "text/plain": [
       "         brand                   name  rating skin_type eye_color  \\\n",
       "0  Bobbi Brown  Skin Foundation Stick       5       NaN       NaN   \n",
       "1  Bobbi Brown  Skin Foundation Stick       5      oily     brown   \n",
       "2  Bobbi Brown  Skin Foundation Stick       4    normal     brown   \n",
       "3  Bobbi Brown  Skin Foundation Stick       5       NaN       NaN   \n",
       "4  Bobbi Brown  Skin Foundation Stick       4       NaN       NaN   \n",
       "\n",
       "  skin_concerns incentivized_review skin_tone     age beauty_insider  \\\n",
       "0           NaN               False       NaN     NaN            NaN   \n",
       "1           NaN               False      fair  25to34         yesvib   \n",
       "2           NaN                 NaN     light  25to34            yes   \n",
       "3           NaN                 NaN       NaN     NaN            NaN   \n",
       "4           NaN                 NaN       NaN     NaN            NaN   \n",
       "\n",
       "     user_name    price  \n",
       "0      ninicat  $46.00   \n",
       "1      Loverme  $46.00   \n",
       "2         J828  $46.00   \n",
       "3  juicygirl25  $46.00   \n",
       "4       Lenahj  $46.00   "
      ]
     },
     "execution_count": 6,
     "metadata": {},
     "output_type": "execute_result"
    }
   ],
   "source": [
    "foundation_db.head()"
   ]
  },
  {
   "cell_type": "code",
   "execution_count": null,
   "metadata": {},
   "outputs": [],
   "source": []
  }
 ],
 "metadata": {
  "kernelspec": {
   "display_name": "Python 3",
   "language": "python",
   "name": "python3"
  },
  "language_info": {
   "codemirror_mode": {
    "name": "ipython",
    "version": 3
   },
   "file_extension": ".py",
   "mimetype": "text/x-python",
   "name": "python",
   "nbconvert_exporter": "python",
   "pygments_lexer": "ipython3",
   "version": "3.6.5"
  }
 },
 "nbformat": 4,
 "nbformat_minor": 2
}
